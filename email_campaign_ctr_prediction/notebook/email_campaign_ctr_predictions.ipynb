{
 "cells": [
  {
   "cell_type": "markdown",
   "metadata": {},
   "source": [
    "## Overview\n",
    "\n",
    "\n",
    "Predict CTR of an Email Campaign"
   ]
  },
  {
   "cell_type": "markdown",
   "metadata": {},
   "source": [
    "## Libraries"
   ]
  },
  {
   "cell_type": "code",
   "execution_count": 76,
   "metadata": {},
   "outputs": [],
   "source": [
    "import pandas as pd\n",
    "import numpy as np\n",
    "import scipy as sp\n",
    "import calendar\n",
    "from datetime import date,datetime,timedelta\n",
    "import time\n",
    "from sklearn.model_selection import train_test_split, cross_val_score\n",
    "from sklearn.feature_selection import RFE\n",
    "from sklearn.metrics import r2_score, mean_squared_error,get_scorer_names\n",
    "from rdt import HyperTransformer\n",
    "from xgboost import XGBRegressor\n",
    "from sklearn.ensemble import RandomForestRegressor, VotingRegressor, HistGradientBoostingRegressor\n",
    "from sklearn.model_selection import RepeatedKFold\n",
    "\n",
    "from matplotlib import pyplot as plt\n",
    "import traceback\n",
    "import eli5\n",
    "from eli5.sklearn import PermutationImportance\n",
    "from eli5.xgboost import explain_prediction_xgboost\n",
    "import logging\n",
    "from importlib import reload\n",
    "import logging\n",
    "import plotly.graph_objects as go\n",
    "import plotly.express as px\n",
    "import os\n",
    "import json\n",
    "from sklearn.linear_model import LinearRegression, HuberRegressor, QuantileRegressor\n",
    "import plotly.io as pio\n",
    "import tensorflow_data_validation as tfdv\n",
    "from sklearn.preprocessing import StandardScaler, PowerTransformer, QuantileTransformer, Normalizer, RobustScaler\n",
    "from scipy.stats import zscore\n",
    "from fitter import Fitter, get_common_distributions, get_distributions\n",
    "# remove static rendering to allow interactive mode\n",
    "#pio.renderers.default = \"notebook_connected\"\n",
    "pio.renderers.default = \"svg\"\n",
    "import warnings\n",
    "warnings.filterwarnings(\"ignore\")\n",
    "%matplotlib inline"
   ]
  },
  {
   "cell_type": "code",
   "execution_count": 77,
   "metadata": {},
   "outputs": [],
   "source": [
    "# setup random state for experimentation\n",
    "rng = np.random.RandomState(52)"
   ]
  },
  {
   "cell_type": "code",
   "execution_count": 78,
   "metadata": {},
   "outputs": [],
   "source": [
    "# set up logging\n",
    "reload(logging)\n",
    "logging.basicConfig(format='%(asctime)s %(levelname)s:%(message)s', level=logging.INFO, datefmt='%I:%M:%S')"
   ]
  },
  {
   "cell_type": "markdown",
   "metadata": {},
   "source": [
    "## Data"
   ]
  },
  {
   "cell_type": "markdown",
   "metadata": {},
   "source": [
    "### Load data"
   ]
  },
  {
   "cell_type": "code",
   "execution_count": 80,
   "metadata": {},
   "outputs": [],
   "source": [
    "df = pd.read_csv('train_F3fUq2S.csv', index_col=0)\n",
    "submission_df = pd.read_csv('test_Bk2wfZ3.csv', index_col=0)"
   ]
  },
  {
   "cell_type": "code",
   "execution_count": 81,
   "metadata": {},
   "outputs": [
    {
     "name": "stderr",
     "output_type": "stream",
     "text": [
      "04:28:03 INFO:Full dataset shape : (1888, 21)\n",
      "04:28:03 INFO:submission dataset shape : (762, 20)\n"
     ]
    }
   ],
   "source": [
    "logging.info(f'Full dataset shape : {df.shape}')\n",
    "logging.info(f'submission dataset shape : {submission_df.shape}')"
   ]
  },
  {
   "cell_type": "code",
   "execution_count": 82,
   "metadata": {},
   "outputs": [
    {
     "data": {
      "text/html": [
       "<div>\n",
       "<style scoped>\n",
       "    .dataframe tbody tr th:only-of-type {\n",
       "        vertical-align: middle;\n",
       "    }\n",
       "\n",
       "    .dataframe tbody tr th {\n",
       "        vertical-align: top;\n",
       "    }\n",
       "\n",
       "    .dataframe thead th {\n",
       "        text-align: right;\n",
       "    }\n",
       "</style>\n",
       "<table border=\"1\" class=\"dataframe\">\n",
       "  <thead>\n",
       "    <tr style=\"text-align: right;\">\n",
       "      <th></th>\n",
       "      <th>sender</th>\n",
       "      <th>subject_len</th>\n",
       "      <th>body_len</th>\n",
       "      <th>mean_paragraph_len</th>\n",
       "      <th>day_of_week</th>\n",
       "      <th>is_weekend</th>\n",
       "      <th>times_of_day</th>\n",
       "      <th>category</th>\n",
       "      <th>product</th>\n",
       "      <th>no_of_CTA</th>\n",
       "      <th>...</th>\n",
       "      <th>is_image</th>\n",
       "      <th>is_personalised</th>\n",
       "      <th>is_quote</th>\n",
       "      <th>is_timer</th>\n",
       "      <th>is_emoticons</th>\n",
       "      <th>is_discount</th>\n",
       "      <th>is_price</th>\n",
       "      <th>is_urgency</th>\n",
       "      <th>target_audience</th>\n",
       "      <th>click_rate</th>\n",
       "    </tr>\n",
       "    <tr>\n",
       "      <th>campaign_id</th>\n",
       "      <th></th>\n",
       "      <th></th>\n",
       "      <th></th>\n",
       "      <th></th>\n",
       "      <th></th>\n",
       "      <th></th>\n",
       "      <th></th>\n",
       "      <th></th>\n",
       "      <th></th>\n",
       "      <th></th>\n",
       "      <th></th>\n",
       "      <th></th>\n",
       "      <th></th>\n",
       "      <th></th>\n",
       "      <th></th>\n",
       "      <th></th>\n",
       "      <th></th>\n",
       "      <th></th>\n",
       "      <th></th>\n",
       "      <th></th>\n",
       "      <th></th>\n",
       "    </tr>\n",
       "  </thead>\n",
       "  <tbody>\n",
       "    <tr>\n",
       "      <th>1</th>\n",
       "      <td>3</td>\n",
       "      <td>76</td>\n",
       "      <td>10439</td>\n",
       "      <td>39</td>\n",
       "      <td>5</td>\n",
       "      <td>1</td>\n",
       "      <td>Noon</td>\n",
       "      <td>6</td>\n",
       "      <td>26</td>\n",
       "      <td>3</td>\n",
       "      <td>...</td>\n",
       "      <td>0</td>\n",
       "      <td>0</td>\n",
       "      <td>0</td>\n",
       "      <td>0</td>\n",
       "      <td>0</td>\n",
       "      <td>0</td>\n",
       "      <td>0</td>\n",
       "      <td>0</td>\n",
       "      <td>14</td>\n",
       "      <td>0.103079</td>\n",
       "    </tr>\n",
       "    <tr>\n",
       "      <th>2</th>\n",
       "      <td>3</td>\n",
       "      <td>54</td>\n",
       "      <td>2570</td>\n",
       "      <td>256</td>\n",
       "      <td>5</td>\n",
       "      <td>1</td>\n",
       "      <td>Morning</td>\n",
       "      <td>2</td>\n",
       "      <td>11</td>\n",
       "      <td>0</td>\n",
       "      <td>...</td>\n",
       "      <td>0</td>\n",
       "      <td>0</td>\n",
       "      <td>0</td>\n",
       "      <td>0</td>\n",
       "      <td>0</td>\n",
       "      <td>0</td>\n",
       "      <td>0</td>\n",
       "      <td>0</td>\n",
       "      <td>10</td>\n",
       "      <td>0.700000</td>\n",
       "    </tr>\n",
       "    <tr>\n",
       "      <th>3</th>\n",
       "      <td>3</td>\n",
       "      <td>59</td>\n",
       "      <td>12801</td>\n",
       "      <td>16</td>\n",
       "      <td>5</td>\n",
       "      <td>1</td>\n",
       "      <td>Noon</td>\n",
       "      <td>2</td>\n",
       "      <td>11</td>\n",
       "      <td>3</td>\n",
       "      <td>...</td>\n",
       "      <td>1</td>\n",
       "      <td>0</td>\n",
       "      <td>1</td>\n",
       "      <td>0</td>\n",
       "      <td>0</td>\n",
       "      <td>0</td>\n",
       "      <td>0</td>\n",
       "      <td>0</td>\n",
       "      <td>16</td>\n",
       "      <td>0.002769</td>\n",
       "    </tr>\n",
       "    <tr>\n",
       "      <th>4</th>\n",
       "      <td>3</td>\n",
       "      <td>74</td>\n",
       "      <td>11037</td>\n",
       "      <td>30</td>\n",
       "      <td>4</td>\n",
       "      <td>0</td>\n",
       "      <td>Evening</td>\n",
       "      <td>15</td>\n",
       "      <td>9</td>\n",
       "      <td>4</td>\n",
       "      <td>...</td>\n",
       "      <td>0</td>\n",
       "      <td>0</td>\n",
       "      <td>0</td>\n",
       "      <td>0</td>\n",
       "      <td>0</td>\n",
       "      <td>0</td>\n",
       "      <td>0</td>\n",
       "      <td>0</td>\n",
       "      <td>10</td>\n",
       "      <td>0.010868</td>\n",
       "    </tr>\n",
       "    <tr>\n",
       "      <th>5</th>\n",
       "      <td>3</td>\n",
       "      <td>80</td>\n",
       "      <td>10011</td>\n",
       "      <td>27</td>\n",
       "      <td>5</td>\n",
       "      <td>1</td>\n",
       "      <td>Noon</td>\n",
       "      <td>6</td>\n",
       "      <td>26</td>\n",
       "      <td>3</td>\n",
       "      <td>...</td>\n",
       "      <td>0</td>\n",
       "      <td>0</td>\n",
       "      <td>1</td>\n",
       "      <td>0</td>\n",
       "      <td>0</td>\n",
       "      <td>0</td>\n",
       "      <td>0</td>\n",
       "      <td>0</td>\n",
       "      <td>14</td>\n",
       "      <td>0.142826</td>\n",
       "    </tr>\n",
       "  </tbody>\n",
       "</table>\n",
       "<p>5 rows × 21 columns</p>\n",
       "</div>"
      ],
      "text/plain": [
       "             sender  subject_len  body_len  mean_paragraph_len  day_of_week  \\\n",
       "campaign_id                                                                   \n",
       "1                 3           76     10439                  39            5   \n",
       "2                 3           54      2570                 256            5   \n",
       "3                 3           59     12801                  16            5   \n",
       "4                 3           74     11037                  30            4   \n",
       "5                 3           80     10011                  27            5   \n",
       "\n",
       "             is_weekend times_of_day  category  product  no_of_CTA  ...  \\\n",
       "campaign_id                                                         ...   \n",
       "1                     1         Noon         6       26          3  ...   \n",
       "2                     1      Morning         2       11          0  ...   \n",
       "3                     1         Noon         2       11          3  ...   \n",
       "4                     0      Evening        15        9          4  ...   \n",
       "5                     1         Noon         6       26          3  ...   \n",
       "\n",
       "             is_image  is_personalised  is_quote  is_timer  is_emoticons  \\\n",
       "campaign_id                                                                \n",
       "1                   0                0         0         0             0   \n",
       "2                   0                0         0         0             0   \n",
       "3                   1                0         1         0             0   \n",
       "4                   0                0         0         0             0   \n",
       "5                   0                0         1         0             0   \n",
       "\n",
       "             is_discount  is_price  is_urgency  target_audience  click_rate  \n",
       "campaign_id                                                                  \n",
       "1                      0         0           0               14    0.103079  \n",
       "2                      0         0           0               10    0.700000  \n",
       "3                      0         0           0               16    0.002769  \n",
       "4                      0         0           0               10    0.010868  \n",
       "5                      0         0           0               14    0.142826  \n",
       "\n",
       "[5 rows x 21 columns]"
      ]
     },
     "execution_count": 82,
     "metadata": {},
     "output_type": "execute_result"
    }
   ],
   "source": [
    "df.head()"
   ]
  },
  {
   "cell_type": "markdown",
   "metadata": {},
   "source": [
    "### Distribution comparision between train and test"
   ]
  },
  {
   "cell_type": "code",
   "execution_count": 157,
   "metadata": {},
   "outputs": [
    {
     "data": {
      "text/html": [
       "<iframe id='facets-iframe' width=\"100%\" height=\"500px\"></iframe>\n",
       "        <script>\n",
       "        facets_iframe = document.getElementById('facets-iframe');\n",
       "        facets_html = '<script src=\"https://cdnjs.cloudflare.com/ajax/libs/webcomponentsjs/1.3.3/webcomponents-lite.js\"><\\/script><link rel=\"import\" href=\"https://raw.githubusercontent.com/PAIR-code/facets/master/facets-dist/facets-jupyter.html\"><facets-overview proto-input=\"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\"></facets-overview>';\n",
       "        facets_iframe.srcdoc = facets_html;\n",
       "         facets_iframe.id = \"\";\n",
       "         setTimeout(() => {\n",
       "           facets_iframe.setAttribute('height', facets_iframe.contentWindow.document.body.offsetHeight + 'px')\n",
       "         }, 1500)\n",
       "         </script>"
      ],
      "text/plain": [
       "<IPython.core.display.HTML object>"
      ]
     },
     "metadata": {},
     "output_type": "display_data"
    }
   ],
   "source": [
    "# Generate training dataset statistics\n",
    "train_stats = tfdv.generate_statistics_from_dataframe(df)\n",
    "\n",
    "# Generate test dataset statistics\n",
    "test_stats = tfdv.generate_statistics_from_dataframe(submission_df)\n",
    "\n",
    "# Compare training with evaluation\n",
    "tfdv.visualize_statistics(\n",
    "    lhs_statistics=train_stats, \n",
    "    rhs_statistics=test_stats, \n",
    "    lhs_name='TRAIN_DATASET', \n",
    "    rhs_name='TEST_DATASET'\n",
    ")"
   ]
  },
  {
   "cell_type": "markdown",
   "metadata": {},
   "source": [
    "##### Column with large number of 0's\n",
    "\n",
    "* is_price - 100% . Remove the column\n",
    "* is_price - 99.3%\n",
    "* is_discount - 96.03%\n",
    "* is_personalised - 94.03%"
   ]
  },
  {
   "cell_type": "markdown",
   "metadata": {},
   "source": [
    "### Schema"
   ]
  },
  {
   "cell_type": "code",
   "execution_count": 84,
   "metadata": {},
   "outputs": [
    {
     "data": {
      "text/html": [
       "<div>\n",
       "<style scoped>\n",
       "    .dataframe tbody tr th:only-of-type {\n",
       "        vertical-align: middle;\n",
       "    }\n",
       "\n",
       "    .dataframe tbody tr th {\n",
       "        vertical-align: top;\n",
       "    }\n",
       "\n",
       "    .dataframe thead th {\n",
       "        text-align: right;\n",
       "    }\n",
       "</style>\n",
       "<table border=\"1\" class=\"dataframe\">\n",
       "  <thead>\n",
       "    <tr style=\"text-align: right;\">\n",
       "      <th></th>\n",
       "      <th>Type</th>\n",
       "      <th>Presence</th>\n",
       "      <th>Valency</th>\n",
       "      <th>Domain</th>\n",
       "    </tr>\n",
       "    <tr>\n",
       "      <th>Feature name</th>\n",
       "      <th></th>\n",
       "      <th></th>\n",
       "      <th></th>\n",
       "      <th></th>\n",
       "    </tr>\n",
       "  </thead>\n",
       "  <tbody>\n",
       "    <tr>\n",
       "      <th>'sender'</th>\n",
       "      <td>INT</td>\n",
       "      <td>required</td>\n",
       "      <td></td>\n",
       "      <td>-</td>\n",
       "    </tr>\n",
       "    <tr>\n",
       "      <th>'subject_len'</th>\n",
       "      <td>INT</td>\n",
       "      <td>required</td>\n",
       "      <td></td>\n",
       "      <td>-</td>\n",
       "    </tr>\n",
       "    <tr>\n",
       "      <th>'body_len'</th>\n",
       "      <td>INT</td>\n",
       "      <td>required</td>\n",
       "      <td></td>\n",
       "      <td>-</td>\n",
       "    </tr>\n",
       "    <tr>\n",
       "      <th>'mean_paragraph_len'</th>\n",
       "      <td>INT</td>\n",
       "      <td>required</td>\n",
       "      <td></td>\n",
       "      <td>-</td>\n",
       "    </tr>\n",
       "    <tr>\n",
       "      <th>'day_of_week'</th>\n",
       "      <td>INT</td>\n",
       "      <td>required</td>\n",
       "      <td></td>\n",
       "      <td>-</td>\n",
       "    </tr>\n",
       "    <tr>\n",
       "      <th>'is_weekend'</th>\n",
       "      <td>INT</td>\n",
       "      <td>required</td>\n",
       "      <td></td>\n",
       "      <td>-</td>\n",
       "    </tr>\n",
       "    <tr>\n",
       "      <th>'times_of_day'</th>\n",
       "      <td>STRING</td>\n",
       "      <td>required</td>\n",
       "      <td></td>\n",
       "      <td>'times_of_day'</td>\n",
       "    </tr>\n",
       "    <tr>\n",
       "      <th>'category'</th>\n",
       "      <td>INT</td>\n",
       "      <td>required</td>\n",
       "      <td></td>\n",
       "      <td>-</td>\n",
       "    </tr>\n",
       "    <tr>\n",
       "      <th>'product'</th>\n",
       "      <td>INT</td>\n",
       "      <td>required</td>\n",
       "      <td></td>\n",
       "      <td>-</td>\n",
       "    </tr>\n",
       "    <tr>\n",
       "      <th>'no_of_CTA'</th>\n",
       "      <td>INT</td>\n",
       "      <td>required</td>\n",
       "      <td></td>\n",
       "      <td>-</td>\n",
       "    </tr>\n",
       "    <tr>\n",
       "      <th>'mean_CTA_len'</th>\n",
       "      <td>INT</td>\n",
       "      <td>required</td>\n",
       "      <td></td>\n",
       "      <td>-</td>\n",
       "    </tr>\n",
       "    <tr>\n",
       "      <th>'is_image'</th>\n",
       "      <td>INT</td>\n",
       "      <td>required</td>\n",
       "      <td></td>\n",
       "      <td>-</td>\n",
       "    </tr>\n",
       "    <tr>\n",
       "      <th>'is_personalised'</th>\n",
       "      <td>INT</td>\n",
       "      <td>required</td>\n",
       "      <td></td>\n",
       "      <td>-</td>\n",
       "    </tr>\n",
       "    <tr>\n",
       "      <th>'is_quote'</th>\n",
       "      <td>INT</td>\n",
       "      <td>required</td>\n",
       "      <td></td>\n",
       "      <td>-</td>\n",
       "    </tr>\n",
       "    <tr>\n",
       "      <th>'is_timer'</th>\n",
       "      <td>INT</td>\n",
       "      <td>required</td>\n",
       "      <td></td>\n",
       "      <td>-</td>\n",
       "    </tr>\n",
       "    <tr>\n",
       "      <th>'is_emoticons'</th>\n",
       "      <td>INT</td>\n",
       "      <td>required</td>\n",
       "      <td></td>\n",
       "      <td>-</td>\n",
       "    </tr>\n",
       "    <tr>\n",
       "      <th>'is_discount'</th>\n",
       "      <td>INT</td>\n",
       "      <td>required</td>\n",
       "      <td></td>\n",
       "      <td>-</td>\n",
       "    </tr>\n",
       "    <tr>\n",
       "      <th>'is_price'</th>\n",
       "      <td>INT</td>\n",
       "      <td>required</td>\n",
       "      <td></td>\n",
       "      <td>-</td>\n",
       "    </tr>\n",
       "    <tr>\n",
       "      <th>'is_urgency'</th>\n",
       "      <td>INT</td>\n",
       "      <td>required</td>\n",
       "      <td></td>\n",
       "      <td>-</td>\n",
       "    </tr>\n",
       "    <tr>\n",
       "      <th>'target_audience'</th>\n",
       "      <td>INT</td>\n",
       "      <td>required</td>\n",
       "      <td></td>\n",
       "      <td>-</td>\n",
       "    </tr>\n",
       "    <tr>\n",
       "      <th>'click_rate'</th>\n",
       "      <td>FLOAT</td>\n",
       "      <td>required</td>\n",
       "      <td></td>\n",
       "      <td>-</td>\n",
       "    </tr>\n",
       "  </tbody>\n",
       "</table>\n",
       "</div>"
      ],
      "text/plain": [
       "                        Type  Presence Valency          Domain\n",
       "Feature name                                                  \n",
       "'sender'                 INT  required                       -\n",
       "'subject_len'            INT  required                       -\n",
       "'body_len'               INT  required                       -\n",
       "'mean_paragraph_len'     INT  required                       -\n",
       "'day_of_week'            INT  required                       -\n",
       "'is_weekend'             INT  required                       -\n",
       "'times_of_day'        STRING  required          'times_of_day'\n",
       "'category'               INT  required                       -\n",
       "'product'                INT  required                       -\n",
       "'no_of_CTA'              INT  required                       -\n",
       "'mean_CTA_len'           INT  required                       -\n",
       "'is_image'               INT  required                       -\n",
       "'is_personalised'        INT  required                       -\n",
       "'is_quote'               INT  required                       -\n",
       "'is_timer'               INT  required                       -\n",
       "'is_emoticons'           INT  required                       -\n",
       "'is_discount'            INT  required                       -\n",
       "'is_price'               INT  required                       -\n",
       "'is_urgency'             INT  required                       -\n",
       "'target_audience'        INT  required                       -\n",
       "'click_rate'           FLOAT  required                       -"
      ]
     },
     "metadata": {},
     "output_type": "display_data"
    },
    {
     "data": {
      "text/html": [
       "<div>\n",
       "<style scoped>\n",
       "    .dataframe tbody tr th:only-of-type {\n",
       "        vertical-align: middle;\n",
       "    }\n",
       "\n",
       "    .dataframe tbody tr th {\n",
       "        vertical-align: top;\n",
       "    }\n",
       "\n",
       "    .dataframe thead th {\n",
       "        text-align: right;\n",
       "    }\n",
       "</style>\n",
       "<table border=\"1\" class=\"dataframe\">\n",
       "  <thead>\n",
       "    <tr style=\"text-align: right;\">\n",
       "      <th></th>\n",
       "      <th>Values</th>\n",
       "    </tr>\n",
       "    <tr>\n",
       "      <th>Domain</th>\n",
       "      <th></th>\n",
       "    </tr>\n",
       "  </thead>\n",
       "  <tbody>\n",
       "    <tr>\n",
       "      <th>'times_of_day'</th>\n",
       "      <td>'Evening', 'Morning', 'Noon'</td>\n",
       "    </tr>\n",
       "  </tbody>\n",
       "</table>\n",
       "</div>"
      ],
      "text/plain": [
       "                                      Values\n",
       "Domain                                      \n",
       "'times_of_day'  'Evening', 'Morning', 'Noon'"
      ]
     },
     "metadata": {},
     "output_type": "display_data"
    },
    {
     "data": {
      "text/html": [
       "<div>\n",
       "<style scoped>\n",
       "    .dataframe tbody tr th:only-of-type {\n",
       "        vertical-align: middle;\n",
       "    }\n",
       "\n",
       "    .dataframe tbody tr th {\n",
       "        vertical-align: top;\n",
       "    }\n",
       "\n",
       "    .dataframe thead th {\n",
       "        text-align: right;\n",
       "    }\n",
       "</style>\n",
       "<table border=\"1\" class=\"dataframe\">\n",
       "  <thead>\n",
       "    <tr style=\"text-align: right;\">\n",
       "      <th></th>\n",
       "      <th>Anomaly short description</th>\n",
       "      <th>Anomaly long description</th>\n",
       "    </tr>\n",
       "    <tr>\n",
       "      <th>Feature name</th>\n",
       "      <th></th>\n",
       "      <th></th>\n",
       "    </tr>\n",
       "  </thead>\n",
       "  <tbody>\n",
       "    <tr>\n",
       "      <th>'click_rate'</th>\n",
       "      <td>Column dropped</td>\n",
       "      <td>Column is completely missing</td>\n",
       "    </tr>\n",
       "  </tbody>\n",
       "</table>\n",
       "</div>"
      ],
      "text/plain": [
       "             Anomaly short description      Anomaly long description\n",
       "Feature name                                                        \n",
       "'click_rate'            Column dropped  Column is completely missing"
      ]
     },
     "metadata": {},
     "output_type": "display_data"
    }
   ],
   "source": [
    "# Infer schema from the computed statistics.\n",
    "schema = tfdv.infer_schema(statistics=train_stats)\n",
    "\n",
    "# Display the inferred schema\n",
    "tfdv.display_schema(schema)\n",
    "\n",
    "# Check evaluation data for errors by validating the evaluation dataset statistics using the reference schema\n",
    "anomalies =  tfdv.validate_statistics(statistics=test_stats, schema=schema)\n",
    "\n",
    "# Visualize anomalies\n",
    "tfdv.display_anomalies(anomalies)"
   ]
  },
  {
   "cell_type": "markdown",
   "metadata": {},
   "source": [
    "### Train, validation and test strategy\n",
    "\n",
    "Since the dataset is small with 1888 datapoints, \n",
    "\n",
    "* Use hold out only for testing on unseen data. \n",
    "* No holdout dataset for validation, instead cross validation will be used.\n",
    "* Will not be able to use earlystopping as a result of no validation datset\n",
    "* 80% train and 20% test"
   ]
  },
  {
   "cell_type": "code",
   "execution_count": 85,
   "metadata": {},
   "outputs": [],
   "source": [
    "# Split the dataset with shuffle\n",
    "train_df, test_df = train_test_split(df,\n",
    "                                     test_size=0.2,\n",
    "                                     shuffle=True,\n",
    "                                     random_state=rng)\n",
    "                                     "
   ]
  },
  {
   "cell_type": "markdown",
   "metadata": {},
   "source": [
    "### Data cleaning"
   ]
  },
  {
   "cell_type": "code",
   "execution_count": 86,
   "metadata": {},
   "outputs": [],
   "source": [
    "train_df_eda = train_df.copy()"
   ]
  },
  {
   "cell_type": "code",
   "execution_count": 87,
   "metadata": {},
   "outputs": [
    {
     "data": {
      "text/plain": [
       "Index(['sender', 'subject_len', 'body_len', 'mean_paragraph_len',\n",
       "       'day_of_week', 'is_weekend', 'times_of_day', 'category', 'product',\n",
       "       'no_of_CTA', 'mean_CTA_len', 'is_image', 'is_personalised', 'is_quote',\n",
       "       'is_timer', 'is_emoticons', 'is_discount', 'is_price', 'is_urgency',\n",
       "       'target_audience', 'click_rate'],\n",
       "      dtype='object')"
      ]
     },
     "execution_count": 87,
     "metadata": {},
     "output_type": "execute_result"
    }
   ],
   "source": [
    "train_df_eda.columns"
   ]
  },
  {
   "cell_type": "markdown",
   "metadata": {},
   "source": [
    "##### Column with large number of 0's\n",
    "\n",
    "* is_timer - 100% . Remove the column\n",
    "* is_price - 99.3%\n",
    "* is_discount - 96.03%\n",
    "* is_personalised - 94.03%"
   ]
  },
  {
   "cell_type": "code",
   "execution_count": 88,
   "metadata": {},
   "outputs": [],
   "source": [
    "train_df_eda.drop(columns=['is_timer'],inplace=True)\n",
    "\n",
    "# price column contains 99.3% 0's with few other price values. Dop the column\n",
    "train_df_eda.drop(columns=['is_price'],inplace=True)"
   ]
  },
  {
   "cell_type": "code",
   "execution_count": 89,
   "metadata": {},
   "outputs": [
    {
     "data": {
      "text/plain": [
       "sender                  12\n",
       "subject_len            159\n",
       "body_len              1290\n",
       "mean_paragraph_len     117\n",
       "day_of_week              7\n",
       "is_weekend               2\n",
       "times_of_day             3\n",
       "category                16\n",
       "product                 41\n",
       "no_of_CTA               36\n",
       "mean_CTA_len            75\n",
       "is_image                 6\n",
       "is_personalised          2\n",
       "is_quote                 7\n",
       "is_emoticons             6\n",
       "is_discount              2\n",
       "is_urgency               2\n",
       "target_audience         17\n",
       "click_rate            1455\n",
       "dtype: int64"
      ]
     },
     "execution_count": 89,
     "metadata": {},
     "output_type": "execute_result"
    }
   ],
   "source": [
    "train_df_eda.nunique()"
   ]
  },
  {
   "cell_type": "markdown",
   "metadata": {},
   "source": [
    "##### Below Boolean columns have more than 1 value\n",
    "\n",
    "* is_image - 6 (likely number of images per email)\n",
    "* is_quote - 7 (likely number of quotes per email)\n",
    "* is_emoticons - 6 (likely number of emoticons per email)\n",
    "\n"
   ]
  },
  {
   "cell_type": "code",
   "execution_count": 90,
   "metadata": {},
   "outputs": [
    {
     "name": "stdout",
     "output_type": "stream",
     "text": [
      "image value counts\n",
      "0    573\n",
      "1    558\n",
      "2    347\n",
      "3     28\n",
      "4      2\n",
      "6      2\n",
      "Name: is_image, dtype: int64\n",
      "\n",
      "qoute value counts\n",
      "0    691\n",
      "1    521\n",
      "2    180\n",
      "3     81\n",
      "4     21\n",
      "5     11\n",
      "6      5\n",
      "Name: is_quote, dtype: int64\n",
      "\n",
      "emoticons value counts\n",
      "0    1300\n",
      "1     132\n",
      "2      47\n",
      "3      27\n",
      "4       3\n",
      "6       1\n",
      "Name: is_emoticons, dtype: int64\n"
     ]
    }
   ],
   "source": [
    "print('image value counts')\n",
    "print(train_df_eda.is_image.value_counts())\n",
    "print('\\nqoute value counts')\n",
    "print(train_df_eda.is_quote.value_counts())\n",
    "print('\\nemoticons value counts')\n",
    "print(train_df_eda.is_emoticons.value_counts())"
   ]
  },
  {
   "cell_type": "markdown",
   "metadata": {},
   "source": [
    "Blindly cleaning the above columns to boolean will lead to loss of information. Instead, let's create two columns, the first indicating the number of values and the second indicating whether the column is boolean\n",
    "\n",
    "* number_of_images, is_image\n",
    "* number_of_qoutes, is_qoute\n",
    "* number_of_emoticons, is_emoticons"
   ]
  },
  {
   "cell_type": "code",
   "execution_count": 91,
   "metadata": {},
   "outputs": [],
   "source": [
    "train_df_eda['num_images'] = train_df_eda['is_image']\n",
    "train_df_eda['is_image'] = train_df_eda['num_images'] > 0\n",
    "\n",
    "train_df_eda['num_qoutes'] = train_df_eda['is_quote']\n",
    "train_df_eda['is_quote'] = train_df_eda['num_qoutes'] > 0\n",
    "\n",
    "train_df_eda['num_emoticons'] = train_df_eda['is_emoticons']\n",
    "train_df_eda['is_emoticons'] = train_df_eda['num_emoticons'] > 0"
   ]
  },
  {
   "cell_type": "code",
   "execution_count": 92,
   "metadata": {},
   "outputs": [
    {
     "data": {
      "text/plain": [
       "Index(['sender', 'subject_len', 'body_len', 'mean_paragraph_len',\n",
       "       'day_of_week', 'is_weekend', 'times_of_day', 'category', 'product',\n",
       "       'no_of_CTA', 'mean_CTA_len', 'is_image', 'is_personalised', 'is_quote',\n",
       "       'is_emoticons', 'is_discount', 'is_urgency', 'target_audience',\n",
       "       'click_rate', 'num_images', 'num_qoutes', 'num_emoticons'],\n",
       "      dtype='object')"
      ]
     },
     "execution_count": 92,
     "metadata": {},
     "output_type": "execute_result"
    }
   ],
   "source": [
    "train_df_eda.columns"
   ]
  },
  {
   "cell_type": "markdown",
   "metadata": {},
   "source": [
    "### Feature engineering\n",
    "\n",
    "Feature engineering mainly includes 2 types feature engineering\n",
    "\n",
    "* aggregates: aggregate columns using key categorical columns and obtain descriptive statistics such as mean,median,etc\n",
    "    * Ex: df.groupby(['category,'product']['body_len'].mean()) (average body_len per category and product)\n",
    "* N-way combination: combining numerical features with other numerical features\n",
    "    * Multiplication of features (f1*f2)\n",
    "    * ratio features (f1/f2)\n",
    "    * combine features as polynomial features"
   ]
  },
  {
   "cell_type": "markdown",
   "metadata": {},
   "source": [
    "#### Key features identified using Recurisve Feature Elimination\n",
    "\n",
    " \n",
    " * categorical features:\n",
    "    * category\n",
    "    * product\n",
    "    * target_audience\n",
    "\n",
    "* numerical features\n",
    "    * body_len\n",
    "    * no_of_CTA\n",
    "    * mean_paragraph_len\n",
    "    * mean_CTA_len\n",
    "    * subject_len \n",
    "\n",
    "calculate descripctive statistics of numerical features by grouping them by catagorical features\n",
    "\n",
    "#### features not added since model is already overfitting"
   ]
  },
  {
   "cell_type": "code",
   "execution_count": 93,
   "metadata": {},
   "outputs": [],
   "source": [
    "def get_grouped_syntax(grouping_feature_list:list[str])->str:\n",
    "    \"\"\"add groupby syntax in column name to avoid column name mix up\n",
    "    \n",
    "    Args:\n",
    "        grouping_feature_list (list[str]): list of features\n",
    "\n",
    "    Returns:\n",
    "        str: grouped syntax in string format\n",
    "    \"\"\"\n",
    "    return f'groupby('+','.join(grouping_feature_list)+')'\n",
    "\n",
    "def get_grouped_aggregates_dataframe(grouping_feature_list:list[str], aggregate_functions:list, num_feature:str, orig_df: pd.DataFrame)->pd.DataFrame:\n",
    "    \"\"\"get grouped aggregates in the format groupby(['cat_feature1','cat_feature2'])['num_feature'].mean) for a give numerical feature\n",
    "\n",
    "    Args:\n",
    "        grouping_feature_list (list[str]): list of categorical features\n",
    "        aggregate_functions (list): ['min','std', 'max']. \n",
    "        num_feature (str): numerical feature\n",
    "        orig_df (pd.DataFrame): original dataframe\n",
    "\n",
    "    Returns:\n",
    "        pd.DataFrame: return grouped aggregates\n",
    "\n",
    "    Notes:\n",
    "        list of all aggregate functions-\n",
    "        https://www.shanelynn.ie/summarising-aggregation-and-grouping-data-in-python-pandas/\\n\n",
    "        https://pandas.pydata.org/docs/user_guide/groupby.html\n",
    "    \"\"\"\n",
    "\n",
    "    # get group by syntax in string\n",
    "    grouping_feature_list_name = get_grouped_syntax(grouping_feature_list)\n",
    "    # groupby - features -> aggregate using agg functions\n",
    "    grouped = orig_df.groupby(grouping_feature_list).agg(\n",
    "        {num_feature: aggregate_functions})\n",
    "    # rename columns for convinience.\n",
    "    grouped.columns = [f'{grouping_feature_list_name}_{num_feature}_{x[1]}' for x in grouped.columns.ravel()]\n",
    "    grouped = grouped.reset_index()\n",
    "    return grouped\n",
    "def aggregate_and_merge(orig_df: pd.DataFrame, grouped_feature_list: list[str], aggregate_functions:list, num_feature:str) -> pd.DataFrame:\n",
    "    \"\"\"merge grouped aggregate columns to original dataframe.\n",
    "\n",
    "    Args:\n",
    "        orig_df (pd.DataFrame): original dataframe\n",
    "        grouped_df (pd.DataFrame): grouped aggergated dataframe\n",
    "        grouped_feature_list (list[str]): features used for grouping\n",
    "\n",
    "    Returns:\n",
    "        pd.DataFrame: merged dataframe\n",
    "    \"\"\"\n",
    "    grouped_df = get_grouped_aggregates_dataframe(grouped_feature_list, aggregate_functions, num_feature, orig_df)\n",
    "    df = pd.merge(orig_df.reset_index(), grouped_df, on=grouped_feature_list, how='inner')\n",
    "    return df.set_index('campaign_id').reindex(orig_df.index)"
   ]
  },
  {
   "cell_type": "markdown",
   "metadata": {},
   "source": [
    "### Data preprocessing"
   ]
  },
  {
   "cell_type": "code",
   "execution_count": 94,
   "metadata": {},
   "outputs": [],
   "source": [
    "def clean_Data(df):\n",
    "    \"\"\"sequential steps of data cleaning. Above steps are added in sequence\n",
    "    \"\"\"\n",
    "\n",
    "    # drop is_timer column containing 100% 0's\n",
    "    df.drop(columns=['is_timer'],inplace=True)\n",
    "\n",
    "    df['num_images'] = df['is_image']\n",
    "    df['is_image'] = df['num_images'] > 0\n",
    "\n",
    "    df['num_qoutes'] = df['is_quote']\n",
    "    df['is_quote'] = df['num_qoutes'] > 0\n",
    "\n",
    "    df['num_emoticons'] = df['is_emoticons']\n",
    "    df['is_emoticons'] = df['num_emoticons'] > 0\n",
    "\n",
    "    df['NO_of_paragrahs'] = df['mean_paragraph_len'] / df['body_len']\n",
    "\n",
    "    return df"
   ]
  },
  {
   "cell_type": "code",
   "execution_count": 95,
   "metadata": {},
   "outputs": [],
   "source": [
    "def add_features(df):\n",
    "    #df = aggregate_and_merge(df, ['category','product'] , ['mean','std'], 'body_len')\n",
    "    return df"
   ]
  },
  {
   "cell_type": "code",
   "execution_count": 96,
   "metadata": {},
   "outputs": [],
   "source": [
    "def split_features_target(df, target, drop_features = [], target_available =True):\n",
    "    \n",
    "    y = df[target] if target_available else None\n",
    "    drop_cols = drop_features+[target] if target_available else drop_features\n",
    "    X = df.drop(columns = drop_cols)\n",
    "    return X,y"
   ]
  },
  {
   "cell_type": "code",
   "execution_count": 97,
   "metadata": {},
   "outputs": [],
   "source": [
    "target = 'click_rate'\n",
    "drop_features = []"
   ]
  },
  {
   "cell_type": "code",
   "execution_count": 98,
   "metadata": {},
   "outputs": [],
   "source": [
    "# work on copy of train_df\n",
    "train_df_cp = train_df.copy()"
   ]
  },
  {
   "cell_type": "code",
   "execution_count": 99,
   "metadata": {},
   "outputs": [],
   "source": [
    "train_df_cp = clean_Data(train_df_cp)\n",
    "train_df_cp = add_features(train_df_cp)\n",
    "X_train,y_train = split_features_target(train_df_cp, target, drop_features)"
   ]
  },
  {
   "cell_type": "markdown",
   "metadata": {},
   "source": [
    "### Data transformation\n",
    "\n",
    "Reversible Data Transforms(https://docs.sdv.dev/rdt/) is used for categorical encoding and data transformation"
   ]
  },
  {
   "cell_type": "code",
   "execution_count": 100,
   "metadata": {},
   "outputs": [],
   "source": [
    "# initialize data transformer\n",
    "ht = HyperTransformer()"
   ]
  },
  {
   "cell_type": "code",
   "execution_count": 101,
   "metadata": {},
   "outputs": [
    {
     "name": "stdout",
     "output_type": "stream",
     "text": [
      "Detecting a new config from the data ... SUCCESS\n",
      "Setting the new config ... SUCCESS\n",
      "Config:\n",
      "{\n",
      "    \"sdtypes\": {\n",
      "        \"sender\": \"numerical\",\n",
      "        \"subject_len\": \"numerical\",\n",
      "        \"body_len\": \"numerical\",\n",
      "        \"mean_paragraph_len\": \"numerical\",\n",
      "        \"day_of_week\": \"numerical\",\n",
      "        \"is_weekend\": \"numerical\",\n",
      "        \"times_of_day\": \"categorical\",\n",
      "        \"category\": \"numerical\",\n",
      "        \"product\": \"numerical\",\n",
      "        \"no_of_CTA\": \"numerical\",\n",
      "        \"mean_CTA_len\": \"numerical\",\n",
      "        \"is_image\": \"boolean\",\n",
      "        \"is_personalised\": \"numerical\",\n",
      "        \"is_quote\": \"boolean\",\n",
      "        \"is_emoticons\": \"boolean\",\n",
      "        \"is_discount\": \"numerical\",\n",
      "        \"is_price\": \"numerical\",\n",
      "        \"is_urgency\": \"numerical\",\n",
      "        \"target_audience\": \"numerical\",\n",
      "        \"num_images\": \"numerical\",\n",
      "        \"num_qoutes\": \"numerical\",\n",
      "        \"num_emoticons\": \"numerical\",\n",
      "        \"NO_of_paragrahs\": \"numerical\"\n",
      "    },\n",
      "    \"transformers\": {\n",
      "        \"sender\": FloatFormatter(missing_value_replacement='mean'),\n",
      "        \"subject_len\": FloatFormatter(missing_value_replacement='mean'),\n",
      "        \"body_len\": FloatFormatter(missing_value_replacement='mean'),\n",
      "        \"mean_paragraph_len\": FloatFormatter(missing_value_replacement='mean'),\n",
      "        \"day_of_week\": FloatFormatter(missing_value_replacement='mean'),\n",
      "        \"is_weekend\": FloatFormatter(missing_value_replacement='mean'),\n",
      "        \"times_of_day\": FrequencyEncoder(),\n",
      "        \"category\": FloatFormatter(missing_value_replacement='mean'),\n",
      "        \"product\": FloatFormatter(missing_value_replacement='mean'),\n",
      "        \"no_of_CTA\": FloatFormatter(missing_value_replacement='mean'),\n",
      "        \"mean_CTA_len\": FloatFormatter(missing_value_replacement='mean'),\n",
      "        \"is_image\": BinaryEncoder(missing_value_replacement='mode'),\n",
      "        \"is_personalised\": FloatFormatter(missing_value_replacement='mean'),\n",
      "        \"is_quote\": BinaryEncoder(missing_value_replacement='mode'),\n",
      "        \"is_emoticons\": BinaryEncoder(missing_value_replacement='mode'),\n",
      "        \"is_discount\": FloatFormatter(missing_value_replacement='mean'),\n",
      "        \"is_price\": FloatFormatter(missing_value_replacement='mean'),\n",
      "        \"is_urgency\": FloatFormatter(missing_value_replacement='mean'),\n",
      "        \"target_audience\": FloatFormatter(missing_value_replacement='mean'),\n",
      "        \"num_images\": FloatFormatter(missing_value_replacement='mean'),\n",
      "        \"num_qoutes\": FloatFormatter(missing_value_replacement='mean'),\n",
      "        \"num_emoticons\": FloatFormatter(missing_value_replacement='mean'),\n",
      "        \"NO_of_paragrahs\": FloatFormatter(missing_value_replacement='mean')\n",
      "    }\n",
      "}\n"
     ]
    }
   ],
   "source": [
    "# identify datatypes of given dataframe\n",
    "ht.detect_initial_config(data=X_train)"
   ]
  },
  {
   "cell_type": "code",
   "execution_count": 102,
   "metadata": {},
   "outputs": [
    {
     "name": "stdout",
     "output_type": "stream",
     "text": [
      "Info: The transformers for these columns may change based on the new sdtype.\n",
      "Use 'get_config()' to verify the transformers.\n"
     ]
    }
   ],
   "source": [
    "# Update data types if required\n",
    "ht.update_sdtypes(column_name_to_sdtype={\n",
    "  'sender': 'categorical',\n",
    "  'day_of_week': 'categorical',\n",
    "  'is_weekend' : 'boolean',\n",
    "  'category' : 'categorical',\n",
    "  'product' : 'categorical',\n",
    "  'is_personalised': 'boolean',\n",
    "  'is_discount': 'boolean',\n",
    "  'is_urgency': 'boolean',\n",
    "  'target_audience': 'categorical',\n",
    "})"
   ]
  },
  {
   "cell_type": "code",
   "execution_count": 103,
   "metadata": {},
   "outputs": [
    {
     "data": {
      "text/plain": [
       "{\n",
       "    \"sdtypes\": {\n",
       "        \"sender\": \"categorical\",\n",
       "        \"subject_len\": \"numerical\",\n",
       "        \"body_len\": \"numerical\",\n",
       "        \"mean_paragraph_len\": \"numerical\",\n",
       "        \"day_of_week\": \"categorical\",\n",
       "        \"is_weekend\": \"boolean\",\n",
       "        \"times_of_day\": \"categorical\",\n",
       "        \"category\": \"categorical\",\n",
       "        \"product\": \"categorical\",\n",
       "        \"no_of_CTA\": \"numerical\",\n",
       "        \"mean_CTA_len\": \"numerical\",\n",
       "        \"is_image\": \"boolean\",\n",
       "        \"is_personalised\": \"boolean\",\n",
       "        \"is_quote\": \"boolean\",\n",
       "        \"is_emoticons\": \"boolean\",\n",
       "        \"is_discount\": \"boolean\",\n",
       "        \"is_price\": \"numerical\",\n",
       "        \"is_urgency\": \"boolean\",\n",
       "        \"target_audience\": \"categorical\",\n",
       "        \"num_images\": \"numerical\",\n",
       "        \"num_qoutes\": \"numerical\",\n",
       "        \"num_emoticons\": \"numerical\",\n",
       "        \"NO_of_paragrahs\": \"numerical\"\n",
       "    },\n",
       "    \"transformers\": {\n",
       "        \"sender\": FrequencyEncoder(),\n",
       "        \"subject_len\": FloatFormatter(missing_value_replacement='mean'),\n",
       "        \"body_len\": FloatFormatter(missing_value_replacement='mean'),\n",
       "        \"mean_paragraph_len\": FloatFormatter(missing_value_replacement='mean'),\n",
       "        \"day_of_week\": FrequencyEncoder(),\n",
       "        \"is_weekend\": BinaryEncoder(missing_value_replacement='mode'),\n",
       "        \"times_of_day\": FrequencyEncoder(),\n",
       "        \"category\": FrequencyEncoder(),\n",
       "        \"product\": FrequencyEncoder(),\n",
       "        \"no_of_CTA\": FloatFormatter(missing_value_replacement='mean'),\n",
       "        \"mean_CTA_len\": FloatFormatter(missing_value_replacement='mean'),\n",
       "        \"is_image\": BinaryEncoder(missing_value_replacement='mode'),\n",
       "        \"is_personalised\": BinaryEncoder(missing_value_replacement='mode'),\n",
       "        \"is_quote\": BinaryEncoder(missing_value_replacement='mode'),\n",
       "        \"is_emoticons\": BinaryEncoder(missing_value_replacement='mode'),\n",
       "        \"is_discount\": BinaryEncoder(missing_value_replacement='mode'),\n",
       "        \"is_price\": FloatFormatter(missing_value_replacement='mean'),\n",
       "        \"is_urgency\": BinaryEncoder(missing_value_replacement='mode'),\n",
       "        \"target_audience\": FrequencyEncoder(),\n",
       "        \"num_images\": FloatFormatter(missing_value_replacement='mean'),\n",
       "        \"num_qoutes\": FloatFormatter(missing_value_replacement='mean'),\n",
       "        \"num_emoticons\": FloatFormatter(missing_value_replacement='mean'),\n",
       "        \"NO_of_paragrahs\": FloatFormatter(missing_value_replacement='mean')\n",
       "    }\n",
       "}"
      ]
     },
     "execution_count": 103,
     "metadata": {},
     "output_type": "execute_result"
    }
   ],
   "source": [
    "# verify updates\n",
    "ht.get_config()"
   ]
  },
  {
   "cell_type": "code",
   "execution_count": 104,
   "metadata": {},
   "outputs": [],
   "source": [
    "# fit train data to transformer\n",
    "ht.fit(X_train)\n",
    "\n",
    "# transform the train data\n",
    "X_train_transformed = ht.transform(X_train)"
   ]
  },
  {
   "cell_type": "code",
   "execution_count": 105,
   "metadata": {},
   "outputs": [],
   "source": [
    "selected_features = ['sender.value', 'subject_len.value', 'body_len.value',\n",
    "       'mean_paragraph_len.value', 'day_of_week.value', 'is_weekend.value',\n",
    "       'times_of_day.value', 'category.value', 'product.value',\n",
    "       'no_of_CTA.value', 'mean_CTA_len.value', 'is_personalised.value',\n",
    "       'is_quote.value', 'target_audience.value', 'num_qoutes.value']"
   ]
  },
  {
   "cell_type": "code",
   "execution_count": 106,
   "metadata": {},
   "outputs": [],
   "source": [
    "# selected features  only\n",
    "X_train_transformed = X_train_transformed[selected_features]"
   ]
  },
  {
   "cell_type": "markdown",
   "metadata": {},
   "source": [
    "### Target transformation\n"
   ]
  },
  {
   "cell_type": "code",
   "execution_count": 107,
   "metadata": {},
   "outputs": [],
   "source": [
    "import scipy.stats as stats\n",
    "import pylab"
   ]
  },
  {
   "cell_type": "code",
   "execution_count": 108,
   "metadata": {},
   "outputs": [],
   "source": [
    "def diagnostic_plots(df):\n",
    "    # function to plot a histogram and a Q-Q plot\n",
    "    # side by side, for a certain variable\n",
    "    \n",
    "    plt.figure(figsize=(15,6))\n",
    "    plt.subplot(1, 2, 1)\n",
    "    df.hist()\n",
    "\n",
    "    plt.subplot(1, 2, 2)\n",
    "    stats.probplot(df, dist=\"norm\", plot=pylab)\n",
    "\n",
    "    plt.show()"
   ]
  },
  {
   "cell_type": "code",
   "execution_count": 109,
   "metadata": {},
   "outputs": [],
   "source": [
    "pt = PowerTransformer(method='box-cox')"
   ]
  },
  {
   "cell_type": "code",
   "execution_count": 110,
   "metadata": {},
   "outputs": [
    {
     "data": {
      "text/html": [
       "<style>#sk-container-id-5 {color: black;background-color: white;}#sk-container-id-5 pre{padding: 0;}#sk-container-id-5 div.sk-toggleable {background-color: white;}#sk-container-id-5 label.sk-toggleable__label {cursor: pointer;display: block;width: 100%;margin-bottom: 0;padding: 0.3em;box-sizing: border-box;text-align: center;}#sk-container-id-5 label.sk-toggleable__label-arrow:before {content: \"▸\";float: left;margin-right: 0.25em;color: #696969;}#sk-container-id-5 label.sk-toggleable__label-arrow:hover:before {color: black;}#sk-container-id-5 div.sk-estimator:hover label.sk-toggleable__label-arrow:before {color: black;}#sk-container-id-5 div.sk-toggleable__content {max-height: 0;max-width: 0;overflow: hidden;text-align: left;background-color: #f0f8ff;}#sk-container-id-5 div.sk-toggleable__content pre {margin: 0.2em;color: black;border-radius: 0.25em;background-color: #f0f8ff;}#sk-container-id-5 input.sk-toggleable__control:checked~div.sk-toggleable__content {max-height: 200px;max-width: 100%;overflow: auto;}#sk-container-id-5 input.sk-toggleable__control:checked~label.sk-toggleable__label-arrow:before {content: \"▾\";}#sk-container-id-5 div.sk-estimator input.sk-toggleable__control:checked~label.sk-toggleable__label {background-color: #d4ebff;}#sk-container-id-5 div.sk-label input.sk-toggleable__control:checked~label.sk-toggleable__label {background-color: #d4ebff;}#sk-container-id-5 input.sk-hidden--visually {border: 0;clip: rect(1px 1px 1px 1px);clip: rect(1px, 1px, 1px, 1px);height: 1px;margin: -1px;overflow: hidden;padding: 0;position: absolute;width: 1px;}#sk-container-id-5 div.sk-estimator {font-family: monospace;background-color: #f0f8ff;border: 1px dotted black;border-radius: 0.25em;box-sizing: border-box;margin-bottom: 0.5em;}#sk-container-id-5 div.sk-estimator:hover {background-color: #d4ebff;}#sk-container-id-5 div.sk-parallel-item::after {content: \"\";width: 100%;border-bottom: 1px solid gray;flex-grow: 1;}#sk-container-id-5 div.sk-label:hover label.sk-toggleable__label {background-color: #d4ebff;}#sk-container-id-5 div.sk-serial::before {content: \"\";position: absolute;border-left: 1px solid gray;box-sizing: border-box;top: 0;bottom: 0;left: 50%;z-index: 0;}#sk-container-id-5 div.sk-serial {display: flex;flex-direction: column;align-items: center;background-color: white;padding-right: 0.2em;padding-left: 0.2em;position: relative;}#sk-container-id-5 div.sk-item {position: relative;z-index: 1;}#sk-container-id-5 div.sk-parallel {display: flex;align-items: stretch;justify-content: center;background-color: white;position: relative;}#sk-container-id-5 div.sk-item::before, #sk-container-id-5 div.sk-parallel-item::before {content: \"\";position: absolute;border-left: 1px solid gray;box-sizing: border-box;top: 0;bottom: 0;left: 50%;z-index: -1;}#sk-container-id-5 div.sk-parallel-item {display: flex;flex-direction: column;z-index: 1;position: relative;background-color: white;}#sk-container-id-5 div.sk-parallel-item:first-child::after {align-self: flex-end;width: 50%;}#sk-container-id-5 div.sk-parallel-item:last-child::after {align-self: flex-start;width: 50%;}#sk-container-id-5 div.sk-parallel-item:only-child::after {width: 0;}#sk-container-id-5 div.sk-dashed-wrapped {border: 1px dashed gray;margin: 0 0.4em 0.5em 0.4em;box-sizing: border-box;padding-bottom: 0.4em;background-color: white;}#sk-container-id-5 div.sk-label label {font-family: monospace;font-weight: bold;display: inline-block;line-height: 1.2em;}#sk-container-id-5 div.sk-label-container {text-align: center;}#sk-container-id-5 div.sk-container {/* jupyter's `normalize.less` sets `[hidden] { display: none; }` but bootstrap.min.css set `[hidden] { display: none !important; }` so we also need the `!important` here to be able to override the default hidden behavior on the sphinx rendered scikit-learn.org. See: https://github.com/scikit-learn/scikit-learn/issues/21755 */display: inline-block !important;position: relative;}#sk-container-id-5 div.sk-text-repr-fallback {display: none;}</style><div id=\"sk-container-id-5\" class=\"sk-top-container\"><div class=\"sk-text-repr-fallback\"><pre>PowerTransformer(method=&#x27;box-cox&#x27;)</pre><b>In a Jupyter environment, please rerun this cell to show the HTML representation or trust the notebook. <br />On GitHub, the HTML representation is unable to render, please try loading this page with nbviewer.org.</b></div><div class=\"sk-container\" hidden><div class=\"sk-item\"><div class=\"sk-estimator sk-toggleable\"><input class=\"sk-toggleable__control sk-hidden--visually\" id=\"sk-estimator-id-5\" type=\"checkbox\" checked><label for=\"sk-estimator-id-5\" class=\"sk-toggleable__label sk-toggleable__label-arrow\">PowerTransformer</label><div class=\"sk-toggleable__content\"><pre>PowerTransformer(method=&#x27;box-cox&#x27;)</pre></div></div></div></div></div>"
      ],
      "text/plain": [
       "PowerTransformer(method='box-cox')"
      ]
     },
     "execution_count": 110,
     "metadata": {},
     "output_type": "execute_result"
    }
   ],
   "source": [
    "pt.fit(pd.DataFrame(y_train + 1))"
   ]
  },
  {
   "cell_type": "code",
   "execution_count": 111,
   "metadata": {},
   "outputs": [],
   "source": [
    "def power_transform(target_df):\n",
    "    target_df_cp = target_df.copy()\n",
    "    return pd.Series(pt.transform(pd.DataFrame(target_df_cp) + 1).squeeze())"
   ]
  },
  {
   "cell_type": "code",
   "execution_count": 112,
   "metadata": {},
   "outputs": [],
   "source": [
    "def inverse_power_transform(inverse_target_df):\n",
    "    inverse_target_df_cp = inverse_target_df.copy()\n",
    "    return pd.Series((pt.inverse_transform(pd.DataFrame(inverse_target_df_cp)) - 1).squeeze())"
   ]
  },
  {
   "cell_type": "code",
   "execution_count": 113,
   "metadata": {},
   "outputs": [],
   "source": [
    "def square_transform(target_df):\n",
    "    target_df_cp = target_df.copy()\n",
    "    return (target_df_cp)**(0.5)"
   ]
  },
  {
   "cell_type": "code",
   "execution_count": 114,
   "metadata": {},
   "outputs": [],
   "source": [
    "def inverse_square_transform(inverse_target_df):\n",
    "    inverse_target_df_cp = inverse_target_df.copy()\n",
    "    return (inverse_target_df_cp)**(2)"
   ]
  },
  {
   "cell_type": "code",
   "execution_count": 115,
   "metadata": {},
   "outputs": [],
   "source": [
    "def log_transform(target_df):\n",
    "    target_df_cp = target_df.copy()\n",
    "    return np.log1p(target_df_cp+1)"
   ]
  },
  {
   "cell_type": "code",
   "execution_count": 116,
   "metadata": {},
   "outputs": [],
   "source": [
    "def inverse_log_transform(inverse_target_df):\n",
    "    inverse_target_df_cp = inverse_target_df.copy()\n",
    "    return np.expm1(inverse_target_df_cp) - 1"
   ]
  },
  {
   "cell_type": "markdown",
   "metadata": {},
   "source": [
    "### Modelling"
   ]
  },
  {
   "cell_type": "code",
   "execution_count": 117,
   "metadata": {},
   "outputs": [],
   "source": [
    "def dispatch_ml_algorithm(algorithm_type: str, type_of_target: str):\n",
    "    is_regression = type_of_target == 'continuous'\n",
    "    \n",
    "    if algorithm_type == 'lgbm':\n",
    "        from lightgbm import LGBMClassifier, LGBMRegressor\n",
    "        return LGBMRegressor if is_regression else LGBMClassifier\n",
    "    elif algorithm_type == 'cat':\n",
    "        from catboost import CatBoostClassifier, CatBoostRegressor\n",
    "        return CatBoostRegressor if is_regression else CatBoostClassifier\n",
    "    elif algorithm_type == 'rf':\n",
    "        from  sklearn.ensemble import RandomForestRegressor, RandomForestClassifier\n",
    "        return RandomForestRegressor if is_regression else RandomForestClassifier\n",
    "    else:\n",
    "        assert algorithm_type == 'xgb'\n",
    "        from xgboost import XGBClassifier, XGBRegressor\n",
    "        return XGBRegressor if is_regression else XGBClassifier \n",
    "\n",
    "def get_regressor_instance(algorithm_type: str, type_of_target: str, model_params:dict=None):\n",
    "    \n",
    "    regressor_class = dispatch_ml_algorithm(algorithm_type, type_of_target)\n",
    "    regrssor_instance = regressor_class() if model_params is None else regressor_class(**model_params)\n",
    "    return regrssor_instance\n",
    "\n",
    "\n"
   ]
  },
  {
   "cell_type": "markdown",
   "metadata": {},
   "source": [
    "### Cross validation"
   ]
  },
  {
   "cell_type": "code",
   "execution_count": 118,
   "metadata": {},
   "outputs": [],
   "source": [
    "rkf = RepeatedKFold(n_splits=4,random_state=rng)"
   ]
  },
  {
   "cell_type": "code",
   "execution_count": 119,
   "metadata": {},
   "outputs": [],
   "source": [
    "def get_cross_validation_score(model, X, y, cv =5, cv_func = None, scoring ='r2', inverse_scale_func = None):\n",
    "\n",
    "    cv_value = cv if cv_func is None else cv_func\n",
    "\n",
    "    return cross_val_score(model, X, y, cv=cv_value,scoring=scoring).mean()"
   ]
  },
  {
   "cell_type": "code",
   "execution_count": 120,
   "metadata": {},
   "outputs": [
    {
     "name": "stdout",
     "output_type": "stream",
     "text": [
      "xgb cross validated scores: 0.4379773778020632\n"
     ]
    }
   ],
   "source": [
    "xgb_cross_val_scores = get_cross_validation_score(get_regressor_instance('xgb', 'continuous',{'random_state':rng}), X_train_transformed, log_transform(y_train), cv=rkf)\n",
    "print(f'xgb cross validated scores: {xgb_cross_val_scores}')"
   ]
  },
  {
   "cell_type": "code",
   "execution_count": 121,
   "metadata": {},
   "outputs": [
    {
     "name": "stdout",
     "output_type": "stream",
     "text": [
      "random forest cross validated scores: 0.4667617428964574\n"
     ]
    }
   ],
   "source": [
    "rf_cross_val_scores = get_cross_validation_score(get_regressor_instance('rf', 'continuous', {'random_state':rng}), X_train_transformed,log_transform(y_train), cv=rkf)\n",
    "print(f'random forest cross validated scores: {rf_cross_val_scores}')"
   ]
  },
  {
   "cell_type": "markdown",
   "metadata": {},
   "source": [
    "### Build model"
   ]
  },
  {
   "cell_type": "markdown",
   "metadata": {},
   "source": [
    "#### Prepare test data without data leakage"
   ]
  },
  {
   "cell_type": "code",
   "execution_count": 122,
   "metadata": {},
   "outputs": [],
   "source": [
    "def prepare_data_for_model(df, target_available = True):\n",
    "    # preprocess_data\n",
    "    df = clean_Data(df)\n",
    "    # add features\n",
    "    df = add_features(df)\n",
    "    # split dataset to X,y\n",
    "    X, y = split_features_target(df, target, drop_features,target_available)\n",
    "    # data transformation\"\n",
    "    X_transformed = ht.transform(X)\n",
    "    return X_transformed, y"
   ]
  },
  {
   "cell_type": "code",
   "execution_count": 123,
   "metadata": {},
   "outputs": [
    {
     "data": {
      "text/plain": [
       "Index(['sender', 'subject_len', 'body_len', 'mean_paragraph_len',\n",
       "       'day_of_week', 'is_weekend', 'times_of_day', 'category', 'product',\n",
       "       'no_of_CTA', 'mean_CTA_len', 'is_image', 'is_personalised', 'is_quote',\n",
       "       'is_timer', 'is_emoticons', 'is_discount', 'is_price', 'is_urgency',\n",
       "       'target_audience', 'click_rate'],\n",
       "      dtype='object')"
      ]
     },
     "execution_count": 123,
     "metadata": {},
     "output_type": "execute_result"
    }
   ],
   "source": [
    "test_df.columns"
   ]
  },
  {
   "cell_type": "code",
   "execution_count": 124,
   "metadata": {},
   "outputs": [
    {
     "data": {
      "text/plain": [
       "(378, 21)"
      ]
     },
     "execution_count": 124,
     "metadata": {},
     "output_type": "execute_result"
    }
   ],
   "source": [
    "test_df.shape"
   ]
  },
  {
   "cell_type": "code",
   "execution_count": 125,
   "metadata": {},
   "outputs": [],
   "source": [
    "test_df_cp = test_df.copy()"
   ]
  },
  {
   "cell_type": "code",
   "execution_count": 126,
   "metadata": {},
   "outputs": [],
   "source": [
    "X_test_transformed,y_test = prepare_data_for_model(test_df_cp)"
   ]
  },
  {
   "cell_type": "code",
   "execution_count": 127,
   "metadata": {},
   "outputs": [],
   "source": [
    "X_test_transformed = X_test_transformed[selected_features]"
   ]
  },
  {
   "cell_type": "code",
   "execution_count": 128,
   "metadata": {},
   "outputs": [],
   "source": [
    "# xgboost model\n",
    "xgb_model = get_regressor_instance('xgb', 'continuous', {'random_state':rng})"
   ]
  },
  {
   "cell_type": "code",
   "execution_count": 129,
   "metadata": {},
   "outputs": [],
   "source": [
    "# random forest model\n",
    "rf_model = get_regressor_instance('rf', 'continuous', {'random_state':rng})"
   ]
  },
  {
   "cell_type": "code",
   "execution_count": 130,
   "metadata": {},
   "outputs": [
    {
     "data": {
      "text/html": [
       "<style>#sk-container-id-6 {color: black;background-color: white;}#sk-container-id-6 pre{padding: 0;}#sk-container-id-6 div.sk-toggleable {background-color: white;}#sk-container-id-6 label.sk-toggleable__label {cursor: pointer;display: block;width: 100%;margin-bottom: 0;padding: 0.3em;box-sizing: border-box;text-align: center;}#sk-container-id-6 label.sk-toggleable__label-arrow:before {content: \"▸\";float: left;margin-right: 0.25em;color: #696969;}#sk-container-id-6 label.sk-toggleable__label-arrow:hover:before {color: black;}#sk-container-id-6 div.sk-estimator:hover label.sk-toggleable__label-arrow:before {color: black;}#sk-container-id-6 div.sk-toggleable__content {max-height: 0;max-width: 0;overflow: hidden;text-align: left;background-color: #f0f8ff;}#sk-container-id-6 div.sk-toggleable__content pre {margin: 0.2em;color: black;border-radius: 0.25em;background-color: #f0f8ff;}#sk-container-id-6 input.sk-toggleable__control:checked~div.sk-toggleable__content {max-height: 200px;max-width: 100%;overflow: auto;}#sk-container-id-6 input.sk-toggleable__control:checked~label.sk-toggleable__label-arrow:before {content: \"▾\";}#sk-container-id-6 div.sk-estimator input.sk-toggleable__control:checked~label.sk-toggleable__label {background-color: #d4ebff;}#sk-container-id-6 div.sk-label input.sk-toggleable__control:checked~label.sk-toggleable__label {background-color: #d4ebff;}#sk-container-id-6 input.sk-hidden--visually {border: 0;clip: rect(1px 1px 1px 1px);clip: rect(1px, 1px, 1px, 1px);height: 1px;margin: -1px;overflow: hidden;padding: 0;position: absolute;width: 1px;}#sk-container-id-6 div.sk-estimator {font-family: monospace;background-color: #f0f8ff;border: 1px dotted black;border-radius: 0.25em;box-sizing: border-box;margin-bottom: 0.5em;}#sk-container-id-6 div.sk-estimator:hover {background-color: #d4ebff;}#sk-container-id-6 div.sk-parallel-item::after {content: \"\";width: 100%;border-bottom: 1px solid gray;flex-grow: 1;}#sk-container-id-6 div.sk-label:hover label.sk-toggleable__label {background-color: #d4ebff;}#sk-container-id-6 div.sk-serial::before {content: \"\";position: absolute;border-left: 1px solid gray;box-sizing: border-box;top: 0;bottom: 0;left: 50%;z-index: 0;}#sk-container-id-6 div.sk-serial {display: flex;flex-direction: column;align-items: center;background-color: white;padding-right: 0.2em;padding-left: 0.2em;position: relative;}#sk-container-id-6 div.sk-item {position: relative;z-index: 1;}#sk-container-id-6 div.sk-parallel {display: flex;align-items: stretch;justify-content: center;background-color: white;position: relative;}#sk-container-id-6 div.sk-item::before, #sk-container-id-6 div.sk-parallel-item::before {content: \"\";position: absolute;border-left: 1px solid gray;box-sizing: border-box;top: 0;bottom: 0;left: 50%;z-index: -1;}#sk-container-id-6 div.sk-parallel-item {display: flex;flex-direction: column;z-index: 1;position: relative;background-color: white;}#sk-container-id-6 div.sk-parallel-item:first-child::after {align-self: flex-end;width: 50%;}#sk-container-id-6 div.sk-parallel-item:last-child::after {align-self: flex-start;width: 50%;}#sk-container-id-6 div.sk-parallel-item:only-child::after {width: 0;}#sk-container-id-6 div.sk-dashed-wrapped {border: 1px dashed gray;margin: 0 0.4em 0.5em 0.4em;box-sizing: border-box;padding-bottom: 0.4em;background-color: white;}#sk-container-id-6 div.sk-label label {font-family: monospace;font-weight: bold;display: inline-block;line-height: 1.2em;}#sk-container-id-6 div.sk-label-container {text-align: center;}#sk-container-id-6 div.sk-container {/* jupyter's `normalize.less` sets `[hidden] { display: none; }` but bootstrap.min.css set `[hidden] { display: none !important; }` so we also need the `!important` here to be able to override the default hidden behavior on the sphinx rendered scikit-learn.org. See: https://github.com/scikit-learn/scikit-learn/issues/21755 */display: inline-block !important;position: relative;}#sk-container-id-6 div.sk-text-repr-fallback {display: none;}</style><div id=\"sk-container-id-6\" class=\"sk-top-container\"><div class=\"sk-text-repr-fallback\"><pre>XGBRegressor(base_score=0.5, booster=&#x27;gbtree&#x27;, callbacks=None,\n",
       "             colsample_bylevel=1, colsample_bynode=1, colsample_bytree=1,\n",
       "             early_stopping_rounds=None, enable_categorical=False,\n",
       "             eval_metric=None, gamma=0, gpu_id=-1, grow_policy=&#x27;depthwise&#x27;,\n",
       "             importance_type=None, interaction_constraints=&#x27;&#x27;,\n",
       "             learning_rate=0.300000012, max_bin=256, max_cat_to_onehot=4,\n",
       "             max_delta_step=0, max_depth=6, max_leaves=0, min_child_weight=1,\n",
       "             missing=nan, monotone_constraints=&#x27;()&#x27;, n_estimators=100, n_jobs=0,\n",
       "             num_parallel_tree=1, predictor=&#x27;auto&#x27;, random_state=1695710349,\n",
       "             reg_alpha=0, reg_lambda=1, ...)</pre><b>In a Jupyter environment, please rerun this cell to show the HTML representation or trust the notebook. <br />On GitHub, the HTML representation is unable to render, please try loading this page with nbviewer.org.</b></div><div class=\"sk-container\" hidden><div class=\"sk-item\"><div class=\"sk-estimator sk-toggleable\"><input class=\"sk-toggleable__control sk-hidden--visually\" id=\"sk-estimator-id-6\" type=\"checkbox\" checked><label for=\"sk-estimator-id-6\" class=\"sk-toggleable__label sk-toggleable__label-arrow\">XGBRegressor</label><div class=\"sk-toggleable__content\"><pre>XGBRegressor(base_score=0.5, booster=&#x27;gbtree&#x27;, callbacks=None,\n",
       "             colsample_bylevel=1, colsample_bynode=1, colsample_bytree=1,\n",
       "             early_stopping_rounds=None, enable_categorical=False,\n",
       "             eval_metric=None, gamma=0, gpu_id=-1, grow_policy=&#x27;depthwise&#x27;,\n",
       "             importance_type=None, interaction_constraints=&#x27;&#x27;,\n",
       "             learning_rate=0.300000012, max_bin=256, max_cat_to_onehot=4,\n",
       "             max_delta_step=0, max_depth=6, max_leaves=0, min_child_weight=1,\n",
       "             missing=nan, monotone_constraints=&#x27;()&#x27;, n_estimators=100, n_jobs=0,\n",
       "             num_parallel_tree=1, predictor=&#x27;auto&#x27;, random_state=1060120796,\n",
       "             reg_alpha=0, reg_lambda=1, ...)</pre></div></div></div></div></div>"
      ],
      "text/plain": [
       "XGBRegressor(base_score=0.5, booster='gbtree', callbacks=None,\n",
       "             colsample_bylevel=1, colsample_bynode=1, colsample_bytree=1,\n",
       "             early_stopping_rounds=None, enable_categorical=False,\n",
       "             eval_metric=None, gamma=0, gpu_id=-1, grow_policy='depthwise',\n",
       "             importance_type=None, interaction_constraints='',\n",
       "             learning_rate=0.300000012, max_bin=256, max_cat_to_onehot=4,\n",
       "             max_delta_step=0, max_depth=6, max_leaves=0, min_child_weight=1,\n",
       "             missing=nan, monotone_constraints='()', n_estimators=100, n_jobs=0,\n",
       "             num_parallel_tree=1, predictor='auto', random_state=1602448983,\n",
       "             reg_alpha=0, reg_lambda=1, ...)"
      ]
     },
     "execution_count": 130,
     "metadata": {},
     "output_type": "execute_result"
    }
   ],
   "source": [
    "xgb_model.fit(X_train_transformed, y_train)"
   ]
  },
  {
   "cell_type": "code",
   "execution_count": 131,
   "metadata": {},
   "outputs": [
    {
     "data": {
      "text/html": [
       "<style>#sk-container-id-7 {color: black;background-color: white;}#sk-container-id-7 pre{padding: 0;}#sk-container-id-7 div.sk-toggleable {background-color: white;}#sk-container-id-7 label.sk-toggleable__label {cursor: pointer;display: block;width: 100%;margin-bottom: 0;padding: 0.3em;box-sizing: border-box;text-align: center;}#sk-container-id-7 label.sk-toggleable__label-arrow:before {content: \"▸\";float: left;margin-right: 0.25em;color: #696969;}#sk-container-id-7 label.sk-toggleable__label-arrow:hover:before {color: black;}#sk-container-id-7 div.sk-estimator:hover label.sk-toggleable__label-arrow:before {color: black;}#sk-container-id-7 div.sk-toggleable__content {max-height: 0;max-width: 0;overflow: hidden;text-align: left;background-color: #f0f8ff;}#sk-container-id-7 div.sk-toggleable__content pre {margin: 0.2em;color: black;border-radius: 0.25em;background-color: #f0f8ff;}#sk-container-id-7 input.sk-toggleable__control:checked~div.sk-toggleable__content {max-height: 200px;max-width: 100%;overflow: auto;}#sk-container-id-7 input.sk-toggleable__control:checked~label.sk-toggleable__label-arrow:before {content: \"▾\";}#sk-container-id-7 div.sk-estimator input.sk-toggleable__control:checked~label.sk-toggleable__label {background-color: #d4ebff;}#sk-container-id-7 div.sk-label input.sk-toggleable__control:checked~label.sk-toggleable__label {background-color: #d4ebff;}#sk-container-id-7 input.sk-hidden--visually {border: 0;clip: rect(1px 1px 1px 1px);clip: rect(1px, 1px, 1px, 1px);height: 1px;margin: -1px;overflow: hidden;padding: 0;position: absolute;width: 1px;}#sk-container-id-7 div.sk-estimator {font-family: monospace;background-color: #f0f8ff;border: 1px dotted black;border-radius: 0.25em;box-sizing: border-box;margin-bottom: 0.5em;}#sk-container-id-7 div.sk-estimator:hover {background-color: #d4ebff;}#sk-container-id-7 div.sk-parallel-item::after {content: \"\";width: 100%;border-bottom: 1px solid gray;flex-grow: 1;}#sk-container-id-7 div.sk-label:hover label.sk-toggleable__label {background-color: #d4ebff;}#sk-container-id-7 div.sk-serial::before {content: \"\";position: absolute;border-left: 1px solid gray;box-sizing: border-box;top: 0;bottom: 0;left: 50%;z-index: 0;}#sk-container-id-7 div.sk-serial {display: flex;flex-direction: column;align-items: center;background-color: white;padding-right: 0.2em;padding-left: 0.2em;position: relative;}#sk-container-id-7 div.sk-item {position: relative;z-index: 1;}#sk-container-id-7 div.sk-parallel {display: flex;align-items: stretch;justify-content: center;background-color: white;position: relative;}#sk-container-id-7 div.sk-item::before, #sk-container-id-7 div.sk-parallel-item::before {content: \"\";position: absolute;border-left: 1px solid gray;box-sizing: border-box;top: 0;bottom: 0;left: 50%;z-index: -1;}#sk-container-id-7 div.sk-parallel-item {display: flex;flex-direction: column;z-index: 1;position: relative;background-color: white;}#sk-container-id-7 div.sk-parallel-item:first-child::after {align-self: flex-end;width: 50%;}#sk-container-id-7 div.sk-parallel-item:last-child::after {align-self: flex-start;width: 50%;}#sk-container-id-7 div.sk-parallel-item:only-child::after {width: 0;}#sk-container-id-7 div.sk-dashed-wrapped {border: 1px dashed gray;margin: 0 0.4em 0.5em 0.4em;box-sizing: border-box;padding-bottom: 0.4em;background-color: white;}#sk-container-id-7 div.sk-label label {font-family: monospace;font-weight: bold;display: inline-block;line-height: 1.2em;}#sk-container-id-7 div.sk-label-container {text-align: center;}#sk-container-id-7 div.sk-container {/* jupyter's `normalize.less` sets `[hidden] { display: none; }` but bootstrap.min.css set `[hidden] { display: none !important; }` so we also need the `!important` here to be able to override the default hidden behavior on the sphinx rendered scikit-learn.org. See: https://github.com/scikit-learn/scikit-learn/issues/21755 */display: inline-block !important;position: relative;}#sk-container-id-7 div.sk-text-repr-fallback {display: none;}</style><div id=\"sk-container-id-7\" class=\"sk-top-container\"><div class=\"sk-text-repr-fallback\"><pre>RandomForestRegressor(random_state=RandomState(MT19937) at 0x1922D7BB840)</pre><b>In a Jupyter environment, please rerun this cell to show the HTML representation or trust the notebook. <br />On GitHub, the HTML representation is unable to render, please try loading this page with nbviewer.org.</b></div><div class=\"sk-container\" hidden><div class=\"sk-item\"><div class=\"sk-estimator sk-toggleable\"><input class=\"sk-toggleable__control sk-hidden--visually\" id=\"sk-estimator-id-7\" type=\"checkbox\" checked><label for=\"sk-estimator-id-7\" class=\"sk-toggleable__label sk-toggleable__label-arrow\">RandomForestRegressor</label><div class=\"sk-toggleable__content\"><pre>RandomForestRegressor(random_state=RandomState(MT19937) at 0x1922D7BB840)</pre></div></div></div></div></div>"
      ],
      "text/plain": [
       "RandomForestRegressor(random_state=RandomState(MT19937) at 0x1922D7BB840)"
      ]
     },
     "execution_count": 131,
     "metadata": {},
     "output_type": "execute_result"
    }
   ],
   "source": [
    "rf_model.fit(X_train_transformed, y_train)"
   ]
  },
  {
   "cell_type": "markdown",
   "metadata": {},
   "source": [
    "### feature selection using recursive feature elimination"
   ]
  },
  {
   "cell_type": "code",
   "execution_count": 132,
   "metadata": {},
   "outputs": [
    {
     "name": "stdout",
     "output_type": "stream",
     "text": [
      "Index(['sender.value', 'subject_len.value', 'body_len.value',\n",
      "       'mean_paragraph_len.value', 'day_of_week.value', 'is_weekend.value',\n",
      "       'times_of_day.value', 'category.value', 'product.value',\n",
      "       'no_of_CTA.value', 'mean_CTA_len.value', 'is_personalised.value',\n",
      "       'is_quote.value', 'target_audience.value', 'num_qoutes.value'],\n",
      "      dtype='object')\n"
     ]
    }
   ],
   "source": [
    "xgb_sel_ = RFE(get_regressor_instance('xgb', 'continuous', {'random_state':rng}), n_features_to_select=15)\n",
    "xgb_sel_.fit(X_train_transformed, y_train)\n",
    "\n",
    "selected_feat = X_test_transformed.columns[(xgb_sel_.get_support())]\n",
    "print(selected_feat)"
   ]
  },
  {
   "cell_type": "markdown",
   "metadata": {},
   "source": [
    "### feature importance"
   ]
  },
  {
   "cell_type": "code",
   "execution_count": 133,
   "metadata": {},
   "outputs": [],
   "source": [
    "def display_permutation_importance(model, X_test, y_test):\n",
    "    perm = PermutationImportance(model, random_state=1).fit(X_test, y_test)\n",
    "    return eli5.show_weights(perm, feature_names = X_test.columns.tolist())"
   ]
  },
  {
   "cell_type": "code",
   "execution_count": 134,
   "metadata": {},
   "outputs": [
    {
     "data": {
      "text/html": [
       "\n",
       "    <style>\n",
       "    table.eli5-weights tr:hover {\n",
       "        filter: brightness(85%);\n",
       "    }\n",
       "</style>\n",
       "\n",
       "\n",
       "\n",
       "    \n",
       "\n",
       "    \n",
       "\n",
       "    \n",
       "\n",
       "    \n",
       "\n",
       "    \n",
       "\n",
       "    \n",
       "\n",
       "\n",
       "    \n",
       "\n",
       "    \n",
       "\n",
       "    \n",
       "\n",
       "    \n",
       "\n",
       "    \n",
       "\n",
       "    \n",
       "\n",
       "\n",
       "    \n",
       "\n",
       "    \n",
       "\n",
       "    \n",
       "\n",
       "    \n",
       "\n",
       "    \n",
       "        <table class=\"eli5-weights eli5-feature-importances\" style=\"border-collapse: collapse; border: none; margin-top: 0em; table-layout: auto;\">\n",
       "    <thead>\n",
       "    <tr style=\"border: none;\">\n",
       "        <th style=\"padding: 0 1em 0 0.5em; text-align: right; border: none;\">Weight</th>\n",
       "        <th style=\"padding: 0 0.5em 0 0.5em; text-align: left; border: none;\">Feature</th>\n",
       "    </tr>\n",
       "    </thead>\n",
       "    <tbody>\n",
       "    \n",
       "        <tr style=\"background-color: hsl(120, 100.00%, 80.00%); border: none;\">\n",
       "            <td style=\"padding: 0 1em 0 0.5em; text-align: right; border: none;\">\n",
       "                0.8346\n",
       "                \n",
       "                    &plusmn; 0.2885\n",
       "                \n",
       "            </td>\n",
       "            <td style=\"padding: 0 0.5em 0 0.5em; text-align: left; border: none;\">\n",
       "                body_len.value\n",
       "            </td>\n",
       "        </tr>\n",
       "    \n",
       "        <tr style=\"background-color: hsl(120, 100.00%, 90.02%); border: none;\">\n",
       "            <td style=\"padding: 0 1em 0 0.5em; text-align: right; border: none;\">\n",
       "                0.3091\n",
       "                \n",
       "                    &plusmn; 0.0946\n",
       "                \n",
       "            </td>\n",
       "            <td style=\"padding: 0 0.5em 0 0.5em; text-align: left; border: none;\">\n",
       "                mean_paragraph_len.value\n",
       "            </td>\n",
       "        </tr>\n",
       "    \n",
       "        <tr style=\"background-color: hsl(120, 100.00%, 91.22%); border: none;\">\n",
       "            <td style=\"padding: 0 1em 0 0.5em; text-align: right; border: none;\">\n",
       "                0.2576\n",
       "                \n",
       "                    &plusmn; 0.1088\n",
       "                \n",
       "            </td>\n",
       "            <td style=\"padding: 0 0.5em 0 0.5em; text-align: left; border: none;\">\n",
       "                no_of_CTA.value\n",
       "            </td>\n",
       "        </tr>\n",
       "    \n",
       "        <tr style=\"background-color: hsl(120, 100.00%, 93.20%); border: none;\">\n",
       "            <td style=\"padding: 0 1em 0 0.5em; text-align: right; border: none;\">\n",
       "                0.1786\n",
       "                \n",
       "                    &plusmn; 0.2834\n",
       "                \n",
       "            </td>\n",
       "            <td style=\"padding: 0 0.5em 0 0.5em; text-align: left; border: none;\">\n",
       "                product.value\n",
       "            </td>\n",
       "        </tr>\n",
       "    \n",
       "        <tr style=\"background-color: hsl(120, 100.00%, 95.37%); border: none;\">\n",
       "            <td style=\"padding: 0 1em 0 0.5em; text-align: right; border: none;\">\n",
       "                0.1031\n",
       "                \n",
       "                    &plusmn; 0.0253\n",
       "                \n",
       "            </td>\n",
       "            <td style=\"padding: 0 0.5em 0 0.5em; text-align: left; border: none;\">\n",
       "                mean_CTA_len.value\n",
       "            </td>\n",
       "        </tr>\n",
       "    \n",
       "        <tr style=\"background-color: hsl(120, 100.00%, 95.89%); border: none;\">\n",
       "            <td style=\"padding: 0 1em 0 0.5em; text-align: right; border: none;\">\n",
       "                0.0871\n",
       "                \n",
       "                    &plusmn; 0.0303\n",
       "                \n",
       "            </td>\n",
       "            <td style=\"padding: 0 0.5em 0 0.5em; text-align: left; border: none;\">\n",
       "                subject_len.value\n",
       "            </td>\n",
       "        </tr>\n",
       "    \n",
       "        <tr style=\"background-color: hsl(120, 100.00%, 97.62%); border: none;\">\n",
       "            <td style=\"padding: 0 1em 0 0.5em; text-align: right; border: none;\">\n",
       "                0.0398\n",
       "                \n",
       "                    &plusmn; 0.0364\n",
       "                \n",
       "            </td>\n",
       "            <td style=\"padding: 0 0.5em 0 0.5em; text-align: left; border: none;\">\n",
       "                target_audience.value\n",
       "            </td>\n",
       "        </tr>\n",
       "    \n",
       "        <tr style=\"background-color: hsl(120, 100.00%, 97.88%); border: none;\">\n",
       "            <td style=\"padding: 0 1em 0 0.5em; text-align: right; border: none;\">\n",
       "                0.0339\n",
       "                \n",
       "                    &plusmn; 0.0259\n",
       "                \n",
       "            </td>\n",
       "            <td style=\"padding: 0 0.5em 0 0.5em; text-align: left; border: none;\">\n",
       "                times_of_day.value\n",
       "            </td>\n",
       "        </tr>\n",
       "    \n",
       "        <tr style=\"background-color: hsl(120, 100.00%, 97.96%); border: none;\">\n",
       "            <td style=\"padding: 0 1em 0 0.5em; text-align: right; border: none;\">\n",
       "                0.0321\n",
       "                \n",
       "                    &plusmn; 0.0349\n",
       "                \n",
       "            </td>\n",
       "            <td style=\"padding: 0 0.5em 0 0.5em; text-align: left; border: none;\">\n",
       "                is_quote.value\n",
       "            </td>\n",
       "        </tr>\n",
       "    \n",
       "        <tr style=\"background-color: hsl(120, 100.00%, 98.28%); border: none;\">\n",
       "            <td style=\"padding: 0 1em 0 0.5em; text-align: right; border: none;\">\n",
       "                0.0251\n",
       "                \n",
       "                    &plusmn; 0.0139\n",
       "                \n",
       "            </td>\n",
       "            <td style=\"padding: 0 0.5em 0 0.5em; text-align: left; border: none;\">\n",
       "                category.value\n",
       "            </td>\n",
       "        </tr>\n",
       "    \n",
       "        <tr style=\"background-color: hsl(120, 100.00%, 98.51%); border: none;\">\n",
       "            <td style=\"padding: 0 1em 0 0.5em; text-align: right; border: none;\">\n",
       "                0.0204\n",
       "                \n",
       "                    &plusmn; 0.0194\n",
       "                \n",
       "            </td>\n",
       "            <td style=\"padding: 0 0.5em 0 0.5em; text-align: left; border: none;\">\n",
       "                day_of_week.value\n",
       "            </td>\n",
       "        </tr>\n",
       "    \n",
       "        <tr style=\"background-color: hsl(120, 100.00%, 99.86%); border: none;\">\n",
       "            <td style=\"padding: 0 1em 0 0.5em; text-align: right; border: none;\">\n",
       "                0.0007\n",
       "                \n",
       "                    &plusmn; 0.0084\n",
       "                \n",
       "            </td>\n",
       "            <td style=\"padding: 0 0.5em 0 0.5em; text-align: left; border: none;\">\n",
       "                is_personalised.value\n",
       "            </td>\n",
       "        </tr>\n",
       "    \n",
       "        <tr style=\"background-color: hsl(0, 100.00%, 99.66%); border: none;\">\n",
       "            <td style=\"padding: 0 1em 0 0.5em; text-align: right; border: none;\">\n",
       "                -0.0024\n",
       "                \n",
       "                    &plusmn; 0.0039\n",
       "                \n",
       "            </td>\n",
       "            <td style=\"padding: 0 0.5em 0 0.5em; text-align: left; border: none;\">\n",
       "                sender.value\n",
       "            </td>\n",
       "        </tr>\n",
       "    \n",
       "        <tr style=\"background-color: hsl(0, 100.00%, 99.54%); border: none;\">\n",
       "            <td style=\"padding: 0 1em 0 0.5em; text-align: right; border: none;\">\n",
       "                -0.0039\n",
       "                \n",
       "                    &plusmn; 0.0097\n",
       "                \n",
       "            </td>\n",
       "            <td style=\"padding: 0 0.5em 0 0.5em; text-align: left; border: none;\">\n",
       "                is_weekend.value\n",
       "            </td>\n",
       "        </tr>\n",
       "    \n",
       "        <tr style=\"background-color: hsl(0, 100.00%, 98.68%); border: none;\">\n",
       "            <td style=\"padding: 0 1em 0 0.5em; text-align: right; border: none;\">\n",
       "                -0.0172\n",
       "                \n",
       "                    &plusmn; 0.0109\n",
       "                \n",
       "            </td>\n",
       "            <td style=\"padding: 0 0.5em 0 0.5em; text-align: left; border: none;\">\n",
       "                num_qoutes.value\n",
       "            </td>\n",
       "        </tr>\n",
       "    \n",
       "    \n",
       "    </tbody>\n",
       "</table>\n",
       "    \n",
       "\n",
       "    \n",
       "\n",
       "\n",
       "    \n",
       "\n",
       "    \n",
       "\n",
       "    \n",
       "\n",
       "    \n",
       "\n",
       "    \n",
       "\n",
       "    \n",
       "\n",
       "\n",
       "\n"
      ],
      "text/plain": [
       "<IPython.core.display.HTML object>"
      ]
     },
     "execution_count": 134,
     "metadata": {},
     "output_type": "execute_result"
    }
   ],
   "source": [
    "display_permutation_importance(xgb_model, X_test_transformed, y_test)"
   ]
  },
  {
   "cell_type": "code",
   "execution_count": 135,
   "metadata": {},
   "outputs": [
    {
     "data": {
      "text/html": [
       "\n",
       "    <style>\n",
       "    table.eli5-weights tr:hover {\n",
       "        filter: brightness(85%);\n",
       "    }\n",
       "</style>\n",
       "\n",
       "\n",
       "\n",
       "    \n",
       "\n",
       "    \n",
       "\n",
       "    \n",
       "\n",
       "    \n",
       "\n",
       "    \n",
       "\n",
       "    \n",
       "\n",
       "\n",
       "    \n",
       "\n",
       "    \n",
       "\n",
       "    \n",
       "\n",
       "    \n",
       "\n",
       "    \n",
       "\n",
       "    \n",
       "\n",
       "\n",
       "    \n",
       "\n",
       "    \n",
       "\n",
       "    \n",
       "\n",
       "    \n",
       "\n",
       "    \n",
       "        <table class=\"eli5-weights eli5-feature-importances\" style=\"border-collapse: collapse; border: none; margin-top: 0em; table-layout: auto;\">\n",
       "    <thead>\n",
       "    <tr style=\"border: none;\">\n",
       "        <th style=\"padding: 0 1em 0 0.5em; text-align: right; border: none;\">Weight</th>\n",
       "        <th style=\"padding: 0 0.5em 0 0.5em; text-align: left; border: none;\">Feature</th>\n",
       "    </tr>\n",
       "    </thead>\n",
       "    <tbody>\n",
       "    \n",
       "        <tr style=\"background-color: hsl(120, 100.00%, 80.00%); border: none;\">\n",
       "            <td style=\"padding: 0 1em 0 0.5em; text-align: right; border: none;\">\n",
       "                0.4882\n",
       "                \n",
       "                    &plusmn; 0.0959\n",
       "                \n",
       "            </td>\n",
       "            <td style=\"padding: 0 0.5em 0 0.5em; text-align: left; border: none;\">\n",
       "                body_len.value\n",
       "            </td>\n",
       "        </tr>\n",
       "    \n",
       "        <tr style=\"background-color: hsl(120, 100.00%, 88.46%); border: none;\">\n",
       "            <td style=\"padding: 0 1em 0 0.5em; text-align: right; border: none;\">\n",
       "                0.2226\n",
       "                \n",
       "                    &plusmn; 0.0634\n",
       "                \n",
       "            </td>\n",
       "            <td style=\"padding: 0 0.5em 0 0.5em; text-align: left; border: none;\">\n",
       "                mean_paragraph_len.value\n",
       "            </td>\n",
       "        </tr>\n",
       "    \n",
       "        <tr style=\"background-color: hsl(120, 100.00%, 89.56%); border: none;\">\n",
       "            <td style=\"padding: 0 1em 0 0.5em; text-align: right; border: none;\">\n",
       "                0.1928\n",
       "                \n",
       "                    &plusmn; 0.1697\n",
       "                \n",
       "            </td>\n",
       "            <td style=\"padding: 0 0.5em 0 0.5em; text-align: left; border: none;\">\n",
       "                no_of_CTA.value\n",
       "            </td>\n",
       "        </tr>\n",
       "    \n",
       "        <tr style=\"background-color: hsl(120, 100.00%, 93.49%); border: none;\">\n",
       "            <td style=\"padding: 0 1em 0 0.5em; text-align: right; border: none;\">\n",
       "                0.0982\n",
       "                \n",
       "                    &plusmn; 0.0103\n",
       "                \n",
       "            </td>\n",
       "            <td style=\"padding: 0 0.5em 0 0.5em; text-align: left; border: none;\">\n",
       "                mean_CTA_len.value\n",
       "            </td>\n",
       "        </tr>\n",
       "    \n",
       "        <tr style=\"background-color: hsl(120, 100.00%, 96.57%); border: none;\">\n",
       "            <td style=\"padding: 0 1em 0 0.5em; text-align: right; border: none;\">\n",
       "                0.0394\n",
       "                \n",
       "                    &plusmn; 0.0906\n",
       "                \n",
       "            </td>\n",
       "            <td style=\"padding: 0 0.5em 0 0.5em; text-align: left; border: none;\">\n",
       "                product.value\n",
       "            </td>\n",
       "        </tr>\n",
       "    \n",
       "        <tr style=\"background-color: hsl(120, 100.00%, 97.48%); border: none;\">\n",
       "            <td style=\"padding: 0 1em 0 0.5em; text-align: right; border: none;\">\n",
       "                0.0254\n",
       "                \n",
       "                    &plusmn; 0.0330\n",
       "                \n",
       "            </td>\n",
       "            <td style=\"padding: 0 0.5em 0 0.5em; text-align: left; border: none;\">\n",
       "                category.value\n",
       "            </td>\n",
       "        </tr>\n",
       "    \n",
       "        <tr style=\"background-color: hsl(120, 100.00%, 97.62%); border: none;\">\n",
       "            <td style=\"padding: 0 1em 0 0.5em; text-align: right; border: none;\">\n",
       "                0.0233\n",
       "                \n",
       "                    &plusmn; 0.0296\n",
       "                \n",
       "            </td>\n",
       "            <td style=\"padding: 0 0.5em 0 0.5em; text-align: left; border: none;\">\n",
       "                subject_len.value\n",
       "            </td>\n",
       "        </tr>\n",
       "    \n",
       "        <tr style=\"background-color: hsl(120, 100.00%, 97.90%); border: none;\">\n",
       "            <td style=\"padding: 0 1em 0 0.5em; text-align: right; border: none;\">\n",
       "                0.0194\n",
       "                \n",
       "                    &plusmn; 0.0305\n",
       "                \n",
       "            </td>\n",
       "            <td style=\"padding: 0 0.5em 0 0.5em; text-align: left; border: none;\">\n",
       "                target_audience.value\n",
       "            </td>\n",
       "        </tr>\n",
       "    \n",
       "        <tr style=\"background-color: hsl(120, 100.00%, 98.43%); border: none;\">\n",
       "            <td style=\"padding: 0 1em 0 0.5em; text-align: right; border: none;\">\n",
       "                0.0129\n",
       "                \n",
       "                    &plusmn; 0.0134\n",
       "                \n",
       "            </td>\n",
       "            <td style=\"padding: 0 0.5em 0 0.5em; text-align: left; border: none;\">\n",
       "                times_of_day.value\n",
       "            </td>\n",
       "        </tr>\n",
       "    \n",
       "        <tr style=\"background-color: hsl(120, 100.00%, 98.54%); border: none;\">\n",
       "            <td style=\"padding: 0 1em 0 0.5em; text-align: right; border: none;\">\n",
       "                0.0116\n",
       "                \n",
       "                    &plusmn; 0.0178\n",
       "                \n",
       "            </td>\n",
       "            <td style=\"padding: 0 0.5em 0 0.5em; text-align: left; border: none;\">\n",
       "                is_quote.value\n",
       "            </td>\n",
       "        </tr>\n",
       "    \n",
       "        <tr style=\"background-color: hsl(120, 100.00%, 99.67%); border: none;\">\n",
       "            <td style=\"padding: 0 1em 0 0.5em; text-align: right; border: none;\">\n",
       "                0.0014\n",
       "                \n",
       "                    &plusmn; 0.0103\n",
       "                \n",
       "            </td>\n",
       "            <td style=\"padding: 0 0.5em 0 0.5em; text-align: left; border: none;\">\n",
       "                day_of_week.value\n",
       "            </td>\n",
       "        </tr>\n",
       "    \n",
       "        <tr style=\"background-color: hsl(120, 100.00%, 99.85%); border: none;\">\n",
       "            <td style=\"padding: 0 1em 0 0.5em; text-align: right; border: none;\">\n",
       "                0.0004\n",
       "                \n",
       "                    &plusmn; 0.0084\n",
       "                \n",
       "            </td>\n",
       "            <td style=\"padding: 0 0.5em 0 0.5em; text-align: left; border: none;\">\n",
       "                is_personalised.value\n",
       "            </td>\n",
       "        </tr>\n",
       "    \n",
       "        <tr style=\"background-color: hsl(120, 100.00%, 99.93%); border: none;\">\n",
       "            <td style=\"padding: 0 1em 0 0.5em; text-align: right; border: none;\">\n",
       "                0.0002\n",
       "                \n",
       "                    &plusmn; 0.0227\n",
       "                \n",
       "            </td>\n",
       "            <td style=\"padding: 0 0.5em 0 0.5em; text-align: left; border: none;\">\n",
       "                is_weekend.value\n",
       "            </td>\n",
       "        </tr>\n",
       "    \n",
       "        <tr style=\"background-color: hsl(0, 100.00%, 99.71%); border: none;\">\n",
       "            <td style=\"padding: 0 1em 0 0.5em; text-align: right; border: none;\">\n",
       "                -0.0012\n",
       "                \n",
       "                    &plusmn; 0.0149\n",
       "                \n",
       "            </td>\n",
       "            <td style=\"padding: 0 0.5em 0 0.5em; text-align: left; border: none;\">\n",
       "                sender.value\n",
       "            </td>\n",
       "        </tr>\n",
       "    \n",
       "        <tr style=\"background-color: hsl(0, 100.00%, 98.34%); border: none;\">\n",
       "            <td style=\"padding: 0 1em 0 0.5em; text-align: right; border: none;\">\n",
       "                -0.0139\n",
       "                \n",
       "                    &plusmn; 0.0107\n",
       "                \n",
       "            </td>\n",
       "            <td style=\"padding: 0 0.5em 0 0.5em; text-align: left; border: none;\">\n",
       "                num_qoutes.value\n",
       "            </td>\n",
       "        </tr>\n",
       "    \n",
       "    \n",
       "    </tbody>\n",
       "</table>\n",
       "    \n",
       "\n",
       "    \n",
       "\n",
       "\n",
       "    \n",
       "\n",
       "    \n",
       "\n",
       "    \n",
       "\n",
       "    \n",
       "\n",
       "    \n",
       "\n",
       "    \n",
       "\n",
       "\n",
       "\n"
      ],
      "text/plain": [
       "<IPython.core.display.HTML object>"
      ]
     },
     "execution_count": 135,
     "metadata": {},
     "output_type": "execute_result"
    }
   ],
   "source": [
    "display_permutation_importance(rf_model, X_test_transformed, y_test)"
   ]
  },
  {
   "cell_type": "markdown",
   "metadata": {},
   "source": [
    "### Feature sliced performance analysis"
   ]
  },
  {
   "cell_type": "code",
   "execution_count": 136,
   "metadata": {},
   "outputs": [],
   "source": [
    "def rewrite_name(df_type, error_type):\n",
    "    return f\"{df_type}{'_'}{error_type}\"\n",
    "\n",
    "def get_scores(y_actual, y_predicted,df_type='train'):\n",
    "    #y_predicted = np.expm1(y_predicted)\n",
    "    #y_actual = np.expm1(y_actual)\n",
    "    rmse = mean_squared_error(y_actual, y_predicted, squared=False)\n",
    "    mse = mean_squared_error(y_actual, y_predicted, squared=True)\n",
    "    #mae = mean_absolute_error(y_actual, y_predicted)\n",
    "    r2 = r2_score(y_actual, y_predicted)\n",
    "    scores = {rewrite_name(df_type, 'rmse'):rmse, rewrite_name(df_type, 'mse'):mse , rewrite_name(df_type, 'r2_score'):r2}\n",
    "    return scores\n",
    "\n",
    "def dataset_results(X,y, model, df_type):\n",
    "\n",
    "    y_pred = pd.Series(model.predict(X))\n",
    "    \n",
    "    return get_scores(y,y_pred,df_type)\n",
    "    \n",
    "\n",
    "def display_prediction_scores(X_train, y_train, X_test, y_test, model):\n",
    "\n",
    "    print(dataset_results(X_train,y_train, model, 'train'))\n",
    "    print(dataset_results(X_test,y_test, model, 'test'))\n",
    "    "
   ]
  },
  {
   "cell_type": "code",
   "execution_count": 137,
   "metadata": {},
   "outputs": [],
   "source": [
    "def get_feature_sliced_model_performance_per_dataset(features, model, X,y,  df_type, index_col):\n",
    "    if features:\n",
    "        return X.groupby(features).apply(lambda x:dataset_results(x.reset_index().set_index(index_col),y.loc[x.index], model, df_type))\n",
    "    else:\n",
    "        return pd.DataFrame(dataset_results(X.reset_index().set_index(index_col),y, model, df_type),index=[0])"
   ]
  },
  {
   "cell_type": "code",
   "execution_count": 138,
   "metadata": {},
   "outputs": [],
   "source": [
    "def feature_sliced_performance_analysis_per_dataset(features, model, X,y, time_scale_str, index_col):\n",
    "    \n",
    "    train_results = get_feature_sliced_model_performance_per_dataset(features, model, X,y, time_scale_str , index_col)\n",
    "    results = None\n",
    "    if features:\n",
    "        combined_results = train_results.to_frame(name = 'train').reset_index()\n",
    "        results = pd.json_normalize(combined_results['train'])\n",
    "        results[features] = combined_results[features]\n",
    "     \n",
    "        results = results[ features + [ col for col in results.columns if col not in features ] ]\n",
    "        results[features] = ht.reverse_transform_subset(results[features])\n",
    "    else:\n",
    "        results = train_results\n",
    "    return results"
   ]
  },
  {
   "cell_type": "code",
   "execution_count": 139,
   "metadata": {},
   "outputs": [],
   "source": [
    "def feature_sliced_performance_analysis_train_test_serve(features, model, X,y, X_test,y_test , index_col):\n",
    "    \n",
    "    train_results = get_feature_sliced_model_performance_per_dataset(features, model, X,y, 'train' , index_col)\n",
    "    test_results = get_feature_sliced_model_performance_per_dataset(features,model, X_test,y_test, 'test' , index_col)\n",
    "    results = None\n",
    "    if features:\n",
    "        combined_results = train_results.to_frame(name = 'train').join(test_results.to_frame(name='test')).reset_index()\n",
    "        results = pd.json_normalize(combined_results['train']).join(pd.json_normalize(combined_results['test']))\n",
    "        results[features] = combined_results[features]\n",
    "    else:\n",
    "        results = train_results.join(test_results)\n",
    "        \n",
    "    results = results[ features + [ col for col in results.columns if col not in features ] ]\n",
    "    results[features] = ht.reverse_transform_subset(results[features])\n",
    "    results['overfit_train_test'] = results['train_r2_score'] - results['test_r2_score']\n",
    "    return results"
   ]
  },
  {
   "cell_type": "markdown",
   "metadata": {},
   "source": [
    "#### Overall results"
   ]
  },
  {
   "cell_type": "code",
   "execution_count": 140,
   "metadata": {},
   "outputs": [
    {
     "data": {
      "text/html": [
       "<div>\n",
       "<style scoped>\n",
       "    .dataframe tbody tr th:only-of-type {\n",
       "        vertical-align: middle;\n",
       "    }\n",
       "\n",
       "    .dataframe tbody tr th {\n",
       "        vertical-align: top;\n",
       "    }\n",
       "\n",
       "    .dataframe thead th {\n",
       "        text-align: right;\n",
       "    }\n",
       "</style>\n",
       "<table border=\"1\" class=\"dataframe\">\n",
       "  <thead>\n",
       "    <tr style=\"text-align: right;\">\n",
       "      <th></th>\n",
       "      <th>train_rmse</th>\n",
       "      <th>train_mse</th>\n",
       "      <th>train_r2_score</th>\n",
       "      <th>test_rmse</th>\n",
       "      <th>test_mse</th>\n",
       "      <th>test_r2_score</th>\n",
       "      <th>overfit_train_test</th>\n",
       "    </tr>\n",
       "  </thead>\n",
       "  <tbody>\n",
       "    <tr>\n",
       "      <th>0</th>\n",
       "      <td>0.023286</td>\n",
       "      <td>0.000542</td>\n",
       "      <td>0.92782</td>\n",
       "      <td>0.057097</td>\n",
       "      <td>0.00326</td>\n",
       "      <td>0.395578</td>\n",
       "      <td>0.532242</td>\n",
       "    </tr>\n",
       "  </tbody>\n",
       "</table>\n",
       "</div>"
      ],
      "text/plain": [
       "   train_rmse  train_mse  train_r2_score  test_rmse  test_mse  test_r2_score  \\\n",
       "0    0.023286   0.000542         0.92782   0.057097   0.00326       0.395578   \n",
       "\n",
       "   overfit_train_test  \n",
       "0            0.532242  "
      ]
     },
     "execution_count": 140,
     "metadata": {},
     "output_type": "execute_result"
    }
   ],
   "source": [
    "model_results = feature_sliced_performance_analysis_train_test_serve([], rf_model, X_train_transformed,y_train, X_test_transformed, y_test, index_col='campaign_id')\n",
    "model_results"
   ]
  },
  {
   "cell_type": "code",
   "execution_count": 141,
   "metadata": {},
   "outputs": [
    {
     "data": {
      "text/html": [
       "<div>\n",
       "<style scoped>\n",
       "    .dataframe tbody tr th:only-of-type {\n",
       "        vertical-align: middle;\n",
       "    }\n",
       "\n",
       "    .dataframe tbody tr th {\n",
       "        vertical-align: top;\n",
       "    }\n",
       "\n",
       "    .dataframe thead th {\n",
       "        text-align: right;\n",
       "    }\n",
       "</style>\n",
       "<table border=\"1\" class=\"dataframe\">\n",
       "  <thead>\n",
       "    <tr style=\"text-align: right;\">\n",
       "      <th></th>\n",
       "      <th>train_rmse</th>\n",
       "      <th>train_mse</th>\n",
       "      <th>train_r2_score</th>\n",
       "      <th>test_rmse</th>\n",
       "      <th>test_mse</th>\n",
       "      <th>test_r2_score</th>\n",
       "      <th>overfit_train_test</th>\n",
       "    </tr>\n",
       "  </thead>\n",
       "  <tbody>\n",
       "    <tr>\n",
       "      <th>0</th>\n",
       "      <td>0.006636</td>\n",
       "      <td>0.000044</td>\n",
       "      <td>0.994138</td>\n",
       "      <td>0.052247</td>\n",
       "      <td>0.00273</td>\n",
       "      <td>0.493897</td>\n",
       "      <td>0.500241</td>\n",
       "    </tr>\n",
       "  </tbody>\n",
       "</table>\n",
       "</div>"
      ],
      "text/plain": [
       "   train_rmse  train_mse  train_r2_score  test_rmse  test_mse  test_r2_score  \\\n",
       "0    0.006636   0.000044        0.994138   0.052247   0.00273       0.493897   \n",
       "\n",
       "   overfit_train_test  \n",
       "0            0.500241  "
      ]
     },
     "execution_count": 141,
     "metadata": {},
     "output_type": "execute_result"
    }
   ],
   "source": [
    "model_results = feature_sliced_performance_analysis_train_test_serve([], xgb_model, X_train_transformed,y_train, X_test_transformed, y_test, index_col='campaign_id')\n",
    "model_results"
   ]
  },
  {
   "cell_type": "markdown",
   "metadata": {},
   "source": [
    "#### mode performance by sender"
   ]
  },
  {
   "cell_type": "code",
   "execution_count": 142,
   "metadata": {},
   "outputs": [
    {
     "data": {
      "text/plain": [
       "Index(['sender', 'subject_len', 'body_len', 'mean_paragraph_len',\n",
       "       'day_of_week', 'is_weekend', 'times_of_day', 'category', 'product',\n",
       "       'no_of_CTA', 'mean_CTA_len', 'is_image', 'is_personalised', 'is_quote',\n",
       "       'is_timer', 'is_emoticons', 'is_discount', 'is_price', 'is_urgency',\n",
       "       'target_audience', 'click_rate'],\n",
       "      dtype='object')"
      ]
     },
     "execution_count": 142,
     "metadata": {},
     "output_type": "execute_result"
    }
   ],
   "source": [
    "train_df.columns"
   ]
  },
  {
   "cell_type": "code",
   "execution_count": 143,
   "metadata": {},
   "outputs": [],
   "source": [
    "model_results = feature_sliced_performance_analysis_train_test_serve(['times_of_day.value'], xgb_model, X_train_transformed,y_train, X_test_transformed, y_test, index_col='campaign_id')"
   ]
  },
  {
   "cell_type": "code",
   "execution_count": 144,
   "metadata": {},
   "outputs": [
    {
     "data": {
      "text/html": [
       "<div>\n",
       "<style scoped>\n",
       "    .dataframe tbody tr th:only-of-type {\n",
       "        vertical-align: middle;\n",
       "    }\n",
       "\n",
       "    .dataframe tbody tr th {\n",
       "        vertical-align: top;\n",
       "    }\n",
       "\n",
       "    .dataframe thead th {\n",
       "        text-align: right;\n",
       "    }\n",
       "</style>\n",
       "<table border=\"1\" class=\"dataframe\">\n",
       "  <thead>\n",
       "    <tr style=\"text-align: right;\">\n",
       "      <th></th>\n",
       "      <th>times_of_day.value</th>\n",
       "      <th>train_rmse</th>\n",
       "      <th>train_mse</th>\n",
       "      <th>train_r2_score</th>\n",
       "      <th>test_rmse</th>\n",
       "      <th>test_mse</th>\n",
       "      <th>test_r2_score</th>\n",
       "      <th>overfit_train_test</th>\n",
       "    </tr>\n",
       "  </thead>\n",
       "  <tbody>\n",
       "    <tr>\n",
       "      <th>2</th>\n",
       "      <td>Morning</td>\n",
       "      <td>0.004784</td>\n",
       "      <td>0.000023</td>\n",
       "      <td>0.998179</td>\n",
       "      <td>0.074067</td>\n",
       "      <td>0.005486</td>\n",
       "      <td>0.726950</td>\n",
       "      <td>0.271228</td>\n",
       "    </tr>\n",
       "    <tr>\n",
       "      <th>1</th>\n",
       "      <td>Noon</td>\n",
       "      <td>0.007409</td>\n",
       "      <td>0.000055</td>\n",
       "      <td>0.995453</td>\n",
       "      <td>0.055913</td>\n",
       "      <td>0.003126</td>\n",
       "      <td>0.428339</td>\n",
       "      <td>0.567115</td>\n",
       "    </tr>\n",
       "    <tr>\n",
       "      <th>0</th>\n",
       "      <td>Evening</td>\n",
       "      <td>0.006506</td>\n",
       "      <td>0.000042</td>\n",
       "      <td>0.991937</td>\n",
       "      <td>0.048683</td>\n",
       "      <td>0.002370</td>\n",
       "      <td>0.256328</td>\n",
       "      <td>0.735609</td>\n",
       "    </tr>\n",
       "  </tbody>\n",
       "</table>\n",
       "</div>"
      ],
      "text/plain": [
       "  times_of_day.value  train_rmse  train_mse  train_r2_score  test_rmse  \\\n",
       "2            Morning    0.004784   0.000023        0.998179   0.074067   \n",
       "1               Noon    0.007409   0.000055        0.995453   0.055913   \n",
       "0            Evening    0.006506   0.000042        0.991937   0.048683   \n",
       "\n",
       "   test_mse  test_r2_score  overfit_train_test  \n",
       "2  0.005486       0.726950            0.271228  \n",
       "1  0.003126       0.428339            0.567115  \n",
       "0  0.002370       0.256328            0.735609  "
      ]
     },
     "execution_count": 144,
     "metadata": {},
     "output_type": "execute_result"
    }
   ],
   "source": [
    "model_results.sort_values(by='test_r2_score',ascending=False)"
   ]
  },
  {
   "cell_type": "markdown",
   "metadata": {},
   "source": [
    "### final model with full data trained"
   ]
  },
  {
   "cell_type": "code",
   "execution_count": 145,
   "metadata": {},
   "outputs": [],
   "source": [
    "df_cp = df.copy()"
   ]
  },
  {
   "cell_type": "code",
   "execution_count": 146,
   "metadata": {},
   "outputs": [],
   "source": [
    "X_full_transformed,y_full = prepare_data_for_model(df_cp.sample(frac=1.0))"
   ]
  },
  {
   "cell_type": "code",
   "execution_count": 147,
   "metadata": {},
   "outputs": [],
   "source": [
    "X_full_transformed = X_full_transformed[selected_features]"
   ]
  },
  {
   "cell_type": "code",
   "execution_count": 148,
   "metadata": {},
   "outputs": [],
   "source": [
    "xgb_full_model = get_regressor_instance('xgb', 'continuous', {'random_state':rng})"
   ]
  },
  {
   "cell_type": "code",
   "execution_count": 149,
   "metadata": {},
   "outputs": [
    {
     "data": {
      "text/html": [
       "<style>#sk-container-id-8 {color: black;background-color: white;}#sk-container-id-8 pre{padding: 0;}#sk-container-id-8 div.sk-toggleable {background-color: white;}#sk-container-id-8 label.sk-toggleable__label {cursor: pointer;display: block;width: 100%;margin-bottom: 0;padding: 0.3em;box-sizing: border-box;text-align: center;}#sk-container-id-8 label.sk-toggleable__label-arrow:before {content: \"▸\";float: left;margin-right: 0.25em;color: #696969;}#sk-container-id-8 label.sk-toggleable__label-arrow:hover:before {color: black;}#sk-container-id-8 div.sk-estimator:hover label.sk-toggleable__label-arrow:before {color: black;}#sk-container-id-8 div.sk-toggleable__content {max-height: 0;max-width: 0;overflow: hidden;text-align: left;background-color: #f0f8ff;}#sk-container-id-8 div.sk-toggleable__content pre {margin: 0.2em;color: black;border-radius: 0.25em;background-color: #f0f8ff;}#sk-container-id-8 input.sk-toggleable__control:checked~div.sk-toggleable__content {max-height: 200px;max-width: 100%;overflow: auto;}#sk-container-id-8 input.sk-toggleable__control:checked~label.sk-toggleable__label-arrow:before {content: \"▾\";}#sk-container-id-8 div.sk-estimator input.sk-toggleable__control:checked~label.sk-toggleable__label {background-color: #d4ebff;}#sk-container-id-8 div.sk-label input.sk-toggleable__control:checked~label.sk-toggleable__label {background-color: #d4ebff;}#sk-container-id-8 input.sk-hidden--visually {border: 0;clip: rect(1px 1px 1px 1px);clip: rect(1px, 1px, 1px, 1px);height: 1px;margin: -1px;overflow: hidden;padding: 0;position: absolute;width: 1px;}#sk-container-id-8 div.sk-estimator {font-family: monospace;background-color: #f0f8ff;border: 1px dotted black;border-radius: 0.25em;box-sizing: border-box;margin-bottom: 0.5em;}#sk-container-id-8 div.sk-estimator:hover {background-color: #d4ebff;}#sk-container-id-8 div.sk-parallel-item::after {content: \"\";width: 100%;border-bottom: 1px solid gray;flex-grow: 1;}#sk-container-id-8 div.sk-label:hover label.sk-toggleable__label {background-color: #d4ebff;}#sk-container-id-8 div.sk-serial::before {content: \"\";position: absolute;border-left: 1px solid gray;box-sizing: border-box;top: 0;bottom: 0;left: 50%;z-index: 0;}#sk-container-id-8 div.sk-serial {display: flex;flex-direction: column;align-items: center;background-color: white;padding-right: 0.2em;padding-left: 0.2em;position: relative;}#sk-container-id-8 div.sk-item {position: relative;z-index: 1;}#sk-container-id-8 div.sk-parallel {display: flex;align-items: stretch;justify-content: center;background-color: white;position: relative;}#sk-container-id-8 div.sk-item::before, #sk-container-id-8 div.sk-parallel-item::before {content: \"\";position: absolute;border-left: 1px solid gray;box-sizing: border-box;top: 0;bottom: 0;left: 50%;z-index: -1;}#sk-container-id-8 div.sk-parallel-item {display: flex;flex-direction: column;z-index: 1;position: relative;background-color: white;}#sk-container-id-8 div.sk-parallel-item:first-child::after {align-self: flex-end;width: 50%;}#sk-container-id-8 div.sk-parallel-item:last-child::after {align-self: flex-start;width: 50%;}#sk-container-id-8 div.sk-parallel-item:only-child::after {width: 0;}#sk-container-id-8 div.sk-dashed-wrapped {border: 1px dashed gray;margin: 0 0.4em 0.5em 0.4em;box-sizing: border-box;padding-bottom: 0.4em;background-color: white;}#sk-container-id-8 div.sk-label label {font-family: monospace;font-weight: bold;display: inline-block;line-height: 1.2em;}#sk-container-id-8 div.sk-label-container {text-align: center;}#sk-container-id-8 div.sk-container {/* jupyter's `normalize.less` sets `[hidden] { display: none; }` but bootstrap.min.css set `[hidden] { display: none !important; }` so we also need the `!important` here to be able to override the default hidden behavior on the sphinx rendered scikit-learn.org. See: https://github.com/scikit-learn/scikit-learn/issues/21755 */display: inline-block !important;position: relative;}#sk-container-id-8 div.sk-text-repr-fallback {display: none;}</style><div id=\"sk-container-id-8\" class=\"sk-top-container\"><div class=\"sk-text-repr-fallback\"><pre>XGBRegressor(base_score=0.5, booster=&#x27;gbtree&#x27;, callbacks=None,\n",
       "             colsample_bylevel=1, colsample_bynode=1, colsample_bytree=1,\n",
       "             early_stopping_rounds=None, enable_categorical=False,\n",
       "             eval_metric=None, gamma=0, gpu_id=-1, grow_policy=&#x27;depthwise&#x27;,\n",
       "             importance_type=None, interaction_constraints=&#x27;&#x27;,\n",
       "             learning_rate=0.300000012, max_bin=256, max_cat_to_onehot=4,\n",
       "             max_delta_step=0, max_depth=6, max_leaves=0, min_child_weight=1,\n",
       "             missing=nan, monotone_constraints=&#x27;()&#x27;, n_estimators=100, n_jobs=0,\n",
       "             num_parallel_tree=1, predictor=&#x27;auto&#x27;, random_state=217579235,\n",
       "             reg_alpha=0, reg_lambda=1, ...)</pre><b>In a Jupyter environment, please rerun this cell to show the HTML representation or trust the notebook. <br />On GitHub, the HTML representation is unable to render, please try loading this page with nbviewer.org.</b></div><div class=\"sk-container\" hidden><div class=\"sk-item\"><div class=\"sk-estimator sk-toggleable\"><input class=\"sk-toggleable__control sk-hidden--visually\" id=\"sk-estimator-id-8\" type=\"checkbox\" checked><label for=\"sk-estimator-id-8\" class=\"sk-toggleable__label sk-toggleable__label-arrow\">XGBRegressor</label><div class=\"sk-toggleable__content\"><pre>XGBRegressor(base_score=0.5, booster=&#x27;gbtree&#x27;, callbacks=None,\n",
       "             colsample_bylevel=1, colsample_bynode=1, colsample_bytree=1,\n",
       "             early_stopping_rounds=None, enable_categorical=False,\n",
       "             eval_metric=None, gamma=0, gpu_id=-1, grow_policy=&#x27;depthwise&#x27;,\n",
       "             importance_type=None, interaction_constraints=&#x27;&#x27;,\n",
       "             learning_rate=0.300000012, max_bin=256, max_cat_to_onehot=4,\n",
       "             max_delta_step=0, max_depth=6, max_leaves=0, min_child_weight=1,\n",
       "             missing=nan, monotone_constraints=&#x27;()&#x27;, n_estimators=100, n_jobs=0,\n",
       "             num_parallel_tree=1, predictor=&#x27;auto&#x27;, random_state=662039241,\n",
       "             reg_alpha=0, reg_lambda=1, ...)</pre></div></div></div></div></div>"
      ],
      "text/plain": [
       "XGBRegressor(base_score=0.5, booster='gbtree', callbacks=None,\n",
       "             colsample_bylevel=1, colsample_bynode=1, colsample_bytree=1,\n",
       "             early_stopping_rounds=None, enable_categorical=False,\n",
       "             eval_metric=None, gamma=0, gpu_id=-1, grow_policy='depthwise',\n",
       "             importance_type=None, interaction_constraints='',\n",
       "             learning_rate=0.300000012, max_bin=256, max_cat_to_onehot=4,\n",
       "             max_delta_step=0, max_depth=6, max_leaves=0, min_child_weight=1,\n",
       "             missing=nan, monotone_constraints='()', n_estimators=100, n_jobs=0,\n",
       "             num_parallel_tree=1, predictor='auto', random_state=1850870099,\n",
       "             reg_alpha=0, reg_lambda=1, ...)"
      ]
     },
     "execution_count": 149,
     "metadata": {},
     "output_type": "execute_result"
    }
   ],
   "source": [
    "xgb_full_model.fit(X_full_transformed, y_full)"
   ]
  },
  {
   "cell_type": "markdown",
   "metadata": {},
   "source": [
    "### Predictions"
   ]
  },
  {
   "cell_type": "code",
   "execution_count": 151,
   "metadata": {},
   "outputs": [],
   "source": [
    "submission_df_cp = submission_df.copy()"
   ]
  },
  {
   "cell_type": "code",
   "execution_count": 152,
   "metadata": {},
   "outputs": [],
   "source": [
    "# prepare submission_df for predictions\n",
    "X_submit_transformed,_ = prepare_data_for_model(submission_df_cp, target_available=False)"
   ]
  },
  {
   "cell_type": "code",
   "execution_count": 153,
   "metadata": {},
   "outputs": [],
   "source": [
    "X_submit_transformed = X_submit_transformed[selected_features]"
   ]
  },
  {
   "cell_type": "code",
   "execution_count": 154,
   "metadata": {},
   "outputs": [],
   "source": [
    "predictions = xgb_full_model.predict(X_submit_transformed)"
   ]
  },
  {
   "cell_type": "markdown",
   "metadata": {},
   "source": [
    "#### Submission"
   ]
  },
  {
   "cell_type": "code",
   "execution_count": 155,
   "metadata": {},
   "outputs": [
    {
     "data": {
      "text/html": [
       "<div>\n",
       "<style scoped>\n",
       "    .dataframe tbody tr th:only-of-type {\n",
       "        vertical-align: middle;\n",
       "    }\n",
       "\n",
       "    .dataframe tbody tr th {\n",
       "        vertical-align: top;\n",
       "    }\n",
       "\n",
       "    .dataframe thead th {\n",
       "        text-align: right;\n",
       "    }\n",
       "</style>\n",
       "<table border=\"1\" class=\"dataframe\">\n",
       "  <thead>\n",
       "    <tr style=\"text-align: right;\">\n",
       "      <th></th>\n",
       "      <th>click_rate</th>\n",
       "    </tr>\n",
       "    <tr>\n",
       "      <th>campaign_id</th>\n",
       "      <th></th>\n",
       "    </tr>\n",
       "  </thead>\n",
       "  <tbody>\n",
       "    <tr>\n",
       "      <th>1889</th>\n",
       "      <td>0.057427</td>\n",
       "    </tr>\n",
       "    <tr>\n",
       "      <th>1890</th>\n",
       "      <td>0.698940</td>\n",
       "    </tr>\n",
       "    <tr>\n",
       "      <th>1891</th>\n",
       "      <td>0.185138</td>\n",
       "    </tr>\n",
       "    <tr>\n",
       "      <th>1892</th>\n",
       "      <td>0.187892</td>\n",
       "    </tr>\n",
       "    <tr>\n",
       "      <th>1893</th>\n",
       "      <td>0.165329</td>\n",
       "    </tr>\n",
       "  </tbody>\n",
       "</table>\n",
       "</div>"
      ],
      "text/plain": [
       "             click_rate\n",
       "campaign_id            \n",
       "1889           0.057427\n",
       "1890           0.698940\n",
       "1891           0.185138\n",
       "1892           0.187892\n",
       "1893           0.165329"
      ]
     },
     "execution_count": 155,
     "metadata": {},
     "output_type": "execute_result"
    }
   ],
   "source": [
    "# Storing to Submission DataFrame\n",
    "\n",
    "\n",
    "submission = pd.DataFrame({\n",
    "                  \"campaign_id\": X_submit_transformed.index,\n",
    "                  \"click_rate\": predictions})\n",
    "submission.set_index('campaign_id',inplace=True)\n",
    "submission.head()"
   ]
  },
  {
   "cell_type": "code",
   "execution_count": 156,
   "metadata": {},
   "outputs": [],
   "source": [
    "submission.to_csv('xgb_submission.csv')"
   ]
  }
 ],
 "metadata": {
  "hide_input": false,
  "kernelspec": {
   "display_name": "Python 3 (ipykernel)",
   "language": "python",
   "name": "python3"
  },
  "language_info": {
   "codemirror_mode": {
    "name": "ipython",
    "version": 3
   },
   "file_extension": ".py",
   "mimetype": "text/x-python",
   "name": "python",
   "nbconvert_exporter": "python",
   "pygments_lexer": "ipython3",
   "version": "3.9.12"
  },
  "toc": {
   "base_numbering": 1,
   "nav_menu": {},
   "number_sections": true,
   "sideBar": true,
   "skip_h1_title": false,
   "title_cell": "Table of Contents",
   "title_sidebar": "Contents",
   "toc_cell": false,
   "toc_position": {},
   "toc_section_display": true,
   "toc_window_display": false
  },
  "varInspector": {
   "cols": {
    "lenName": 16,
    "lenType": 16,
    "lenVar": 40
   },
   "kernels_config": {
    "python": {
     "delete_cmd_postfix": "",
     "delete_cmd_prefix": "del ",
     "library": "var_list.py",
     "varRefreshCmd": "print(var_dic_list())"
    },
    "r": {
     "delete_cmd_postfix": ") ",
     "delete_cmd_prefix": "rm(",
     "library": "var_list.r",
     "varRefreshCmd": "cat(var_dic_list()) "
    }
   },
   "types_to_exclude": [
    "module",
    "function",
    "builtin_function_or_method",
    "instance",
    "_Feature"
   ],
   "window_display": false
  },
  "vscode": {
   "interpreter": {
    "hash": "fc8ebd7fb7a328dc38b966c92bceb06ec8c430d99cbf3223fd429b920da44eb7"
   }
  }
 },
 "nbformat": 4,
 "nbformat_minor": 2
}
